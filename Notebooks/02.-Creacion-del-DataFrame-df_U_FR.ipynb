{
 "cells": [
  {
   "cell_type": "markdown",
   "metadata": {},
   "source": [
    "# Creación del DataFrame df_U_FR\n",
    "\n",
    "1. [Carga del DataFrame](#carga-del-dataframe)\n",
    "<br></br>\n",
    "2. [Localización del Producto Estrella Teniendo en Cuenta el País](#localizacion-del-producto-estrella-teniendo-en-cuenta-el-pais)\n",
    "<br></br>\n",
    "3. [Creación del DataFrame df_U_FR](#creacion-del-dataframe-df_U_FR)\n",
    "<br></br>\n",
    "4. [Creación del Archivo con Formato Pickle del DataFrame df_U_FR](#creacion-del-archivo-con-formato-pickle-del-dataframe-df_U_FR)\n",
    "<br></br>\n",
    "5. [Conclusiones](#conclusiones)"
   ]
  },
  {
   "cell_type": "code",
   "execution_count": 1,
   "metadata": {
    "scrolled": true
   },
   "outputs": [
    {
     "name": "stdout",
     "output_type": "stream",
     "text": [
      "2019-06-14T14:01:05+02:00\n",
      "\n",
      "CPython 3.6.8\n",
      "IPython 6.2.1\n",
      "\n",
      "compiler   : GCC 7.3.0\n",
      "system     : Linux\n",
      "release    : 4.13.0-46-generic\n",
      "machine    : x86_64\n",
      "processor  : x86_64\n",
      "CPU cores  : 2\n",
      "interpreter: 64bit\n"
     ]
    }
   ],
   "source": [
    "%load_ext watermark\n",
    "%watermark"
   ]
  },
  {
   "cell_type": "markdown",
   "metadata": {},
   "source": [
    "## 1. <a id='carga-del-dataframe'>Carga del DataFrame</a>"
   ]
  },
  {
   "cell_type": "code",
   "execution_count": 2,
   "metadata": {},
   "outputs": [],
   "source": [
    "import pandas as pd\n",
    "import datetime\n",
    "import warnings\n",
    "\n",
    "warnings.filterwarnings('ignore')"
   ]
  },
  {
   "cell_type": "code",
   "execution_count": 3,
   "metadata": {},
   "outputs": [
    {
     "data": {
      "text/html": [
       "<div>\n",
       "<style scoped>\n",
       "    .dataframe tbody tr th:only-of-type {\n",
       "        vertical-align: middle;\n",
       "    }\n",
       "\n",
       "    .dataframe tbody tr th {\n",
       "        vertical-align: top;\n",
       "    }\n",
       "\n",
       "    .dataframe thead th {\n",
       "        text-align: right;\n",
       "    }\n",
       "</style>\n",
       "<table border=\"1\" class=\"dataframe\">\n",
       "  <thead>\n",
       "    <tr style=\"text-align: right;\">\n",
       "      <th></th>\n",
       "      <th>Fecha_envio</th>\n",
       "      <th>Product_code</th>\n",
       "      <th>Origen</th>\n",
       "      <th>Destino</th>\n",
       "      <th>Peso</th>\n",
       "      <th>Volumen</th>\n",
       "      <th>Peso_final</th>\n",
       "    </tr>\n",
       "  </thead>\n",
       "  <tbody>\n",
       "    <tr>\n",
       "      <th>0</th>\n",
       "      <td>2017-05-01</td>\n",
       "      <td>B</td>\n",
       "      <td>ES</td>\n",
       "      <td>NO</td>\n",
       "      <td>1.80</td>\n",
       "      <td>3.584</td>\n",
       "      <td>3.584</td>\n",
       "    </tr>\n",
       "    <tr>\n",
       "      <th>1</th>\n",
       "      <td>2017-05-01</td>\n",
       "      <td>B</td>\n",
       "      <td>ES</td>\n",
       "      <td>NO</td>\n",
       "      <td>0.90</td>\n",
       "      <td>2.242</td>\n",
       "      <td>2.242</td>\n",
       "    </tr>\n",
       "    <tr>\n",
       "      <th>2</th>\n",
       "      <td>2017-05-01</td>\n",
       "      <td>B</td>\n",
       "      <td>ES</td>\n",
       "      <td>NO</td>\n",
       "      <td>0.35</td>\n",
       "      <td>1.009</td>\n",
       "      <td>1.009</td>\n",
       "    </tr>\n",
       "    <tr>\n",
       "      <th>3</th>\n",
       "      <td>2017-05-01</td>\n",
       "      <td>B</td>\n",
       "      <td>ES</td>\n",
       "      <td>NO</td>\n",
       "      <td>1.15</td>\n",
       "      <td>2.130</td>\n",
       "      <td>2.130</td>\n",
       "    </tr>\n",
       "    <tr>\n",
       "      <th>4</th>\n",
       "      <td>2017-05-01</td>\n",
       "      <td>B</td>\n",
       "      <td>ES</td>\n",
       "      <td>NO</td>\n",
       "      <td>0.45</td>\n",
       "      <td>0.996</td>\n",
       "      <td>0.996</td>\n",
       "    </tr>\n",
       "  </tbody>\n",
       "</table>\n",
       "</div>"
      ],
      "text/plain": [
       "  Fecha_envio Product_code Origen Destino  Peso  Volumen  Peso_final\n",
       "0  2017-05-01            B     ES      NO  1.80    3.584       3.584\n",
       "1  2017-05-01            B     ES      NO  0.90    2.242       2.242\n",
       "2  2017-05-01            B     ES      NO  0.35    1.009       1.009\n",
       "3  2017-05-01            B     ES      NO  1.15    2.130       2.130\n",
       "4  2017-05-01            B     ES      NO  0.45    0.996       0.996"
      ]
     },
     "execution_count": 3,
     "metadata": {},
     "output_type": "execute_result"
    }
   ],
   "source": [
    "df = pd.read_pickle('../Data/01.-Exploracion-de-los-Datos-y-Creacion-DataFrame-Base.pkl')\n",
    "\n",
    "df.head()"
   ]
  },
  {
   "cell_type": "markdown",
   "metadata": {},
   "source": [
    "## 2. <a id='localizacion-del-producto-estrella-teniendo-en-cuenta-el-pais'>Localización del Producto Estrella Teniendo en Cuenta el País</a>"
   ]
  },
  {
   "cell_type": "code",
   "execution_count": 4,
   "metadata": {},
   "outputs": [
    {
     "data": {
      "text/plain": [
       "array(['B', 'U', 'P', 'D', 'N', 'C', 'T', 'W', 'H', 'Q', '7', '9', '8',\n",
       "       '1', 'X', 'K', 'V', 'Y', 'I', 'L', 'M', 'E'], dtype=object)"
      ]
     },
     "execution_count": 4,
     "metadata": {},
     "output_type": "execute_result"
    }
   ],
   "source": [
    "df['Product_code'].unique()"
   ]
  },
  {
   "cell_type": "code",
   "execution_count": 5,
   "metadata": {
    "scrolled": false
   },
   "outputs": [
    {
     "data": {
      "text/html": [
       "<div>\n",
       "<style scoped>\n",
       "    .dataframe tbody tr th:only-of-type {\n",
       "        vertical-align: middle;\n",
       "    }\n",
       "\n",
       "    .dataframe tbody tr th {\n",
       "        vertical-align: top;\n",
       "    }\n",
       "\n",
       "    .dataframe thead th {\n",
       "        text-align: right;\n",
       "    }\n",
       "</style>\n",
       "<table border=\"1\" class=\"dataframe\">\n",
       "  <thead>\n",
       "    <tr style=\"text-align: right;\">\n",
       "      <th></th>\n",
       "      <th>Destino</th>\n",
       "      <th>Product_code</th>\n",
       "      <th>0</th>\n",
       "    </tr>\n",
       "  </thead>\n",
       "  <tbody>\n",
       "    <tr>\n",
       "      <th>0</th>\n",
       "      <td>AD</td>\n",
       "      <td>7</td>\n",
       "      <td>192</td>\n",
       "    </tr>\n",
       "    <tr>\n",
       "      <th>1</th>\n",
       "      <td>AD</td>\n",
       "      <td>8</td>\n",
       "      <td>16</td>\n",
       "    </tr>\n",
       "    <tr>\n",
       "      <th>2</th>\n",
       "      <td>AD</td>\n",
       "      <td>D</td>\n",
       "      <td>7148</td>\n",
       "    </tr>\n",
       "    <tr>\n",
       "      <th>3</th>\n",
       "      <td>AD</td>\n",
       "      <td>H</td>\n",
       "      <td>3</td>\n",
       "    </tr>\n",
       "    <tr>\n",
       "      <th>4</th>\n",
       "      <td>AD</td>\n",
       "      <td>N</td>\n",
       "      <td>4</td>\n",
       "    </tr>\n",
       "  </tbody>\n",
       "</table>\n",
       "</div>"
      ],
      "text/plain": [
       "  Destino Product_code     0\n",
       "0      AD            7   192\n",
       "1      AD            8    16\n",
       "2      AD            D  7148\n",
       "3      AD            H     3\n",
       "4      AD            N     4"
      ]
     },
     "execution_count": 5,
     "metadata": {},
     "output_type": "execute_result"
    }
   ],
   "source": [
    "df_shippings = df.groupby(['Destino','Product_code']).size().reset_index()\n",
    "\n",
    "df_shippings.head()"
   ]
  },
  {
   "cell_type": "code",
   "execution_count": 6,
   "metadata": {
    "scrolled": true
   },
   "outputs": [
    {
     "data": {
      "text/html": [
       "<div>\n",
       "<style scoped>\n",
       "    .dataframe tbody tr th:only-of-type {\n",
       "        vertical-align: middle;\n",
       "    }\n",
       "\n",
       "    .dataframe tbody tr th {\n",
       "        vertical-align: top;\n",
       "    }\n",
       "\n",
       "    .dataframe thead th {\n",
       "        text-align: right;\n",
       "    }\n",
       "</style>\n",
       "<table border=\"1\" class=\"dataframe\">\n",
       "  <thead>\n",
       "    <tr style=\"text-align: right;\">\n",
       "      <th></th>\n",
       "      <th>Destino</th>\n",
       "      <th>Producto</th>\n",
       "      <th>Total</th>\n",
       "    </tr>\n",
       "  </thead>\n",
       "  <tbody>\n",
       "    <tr>\n",
       "      <th>422</th>\n",
       "      <td>ES</td>\n",
       "      <td>N</td>\n",
       "      <td>1163851</td>\n",
       "    </tr>\n",
       "    <tr>\n",
       "      <th>470</th>\n",
       "      <td>FR</td>\n",
       "      <td>U</td>\n",
       "      <td>1157568</td>\n",
       "    </tr>\n",
       "    <tr>\n",
       "      <th>705</th>\n",
       "      <td>IT</td>\n",
       "      <td>U</td>\n",
       "      <td>974392</td>\n",
       "    </tr>\n",
       "    <tr>\n",
       "      <th>345</th>\n",
       "      <td>DE</td>\n",
       "      <td>U</td>\n",
       "      <td>771554</td>\n",
       "    </tr>\n",
       "    <tr>\n",
       "      <th>495</th>\n",
       "      <td>GB</td>\n",
       "      <td>U</td>\n",
       "      <td>717257</td>\n",
       "    </tr>\n",
       "  </tbody>\n",
       "</table>\n",
       "</div>"
      ],
      "text/plain": [
       "    Destino Producto    Total\n",
       "422      ES        N  1163851\n",
       "470      FR        U  1157568\n",
       "705      IT        U   974392\n",
       "345      DE        U   771554\n",
       "495      GB        U   717257"
      ]
     },
     "execution_count": 6,
     "metadata": {},
     "output_type": "execute_result"
    }
   ],
   "source": [
    "df_shippings.columns = ['Destino','Producto','Total']\n",
    "\n",
    "df_shippings = df_shippings.sort_values(by = 'Total',ascending = False)\n",
    "\n",
    "df_shippings.head()"
   ]
  },
  {
   "cell_type": "markdown",
   "metadata": {},
   "source": [
    "El 'Producto' N es del que más envíos se realiza, teniendo en cuenta la segmentación de países. Sin embargo es el producto **U para FR** el que vamos a considerar, pues:\n",
    "* Se realizan prácticamente los mismos envíos que de ES N.\n",
    "* El margen de ingreso por envío es considerablemente mayor."
   ]
  },
  {
   "cell_type": "code",
   "execution_count": 7,
   "metadata": {
    "scrolled": true
   },
   "outputs": [
    {
     "data": {
      "text/html": [
       "<div>\n",
       "<style scoped>\n",
       "    .dataframe tbody tr th:only-of-type {\n",
       "        vertical-align: middle;\n",
       "    }\n",
       "\n",
       "    .dataframe tbody tr th {\n",
       "        vertical-align: top;\n",
       "    }\n",
       "\n",
       "    .dataframe thead th {\n",
       "        text-align: right;\n",
       "    }\n",
       "</style>\n",
       "<table border=\"1\" class=\"dataframe\">\n",
       "  <thead>\n",
       "    <tr style=\"text-align: right;\">\n",
       "      <th></th>\n",
       "      <th>Destino</th>\n",
       "      <th>Producto</th>\n",
       "      <th>Total</th>\n",
       "    </tr>\n",
       "  </thead>\n",
       "  <tbody>\n",
       "    <tr>\n",
       "      <th>470</th>\n",
       "      <td>FR</td>\n",
       "      <td>U</td>\n",
       "      <td>1157568</td>\n",
       "    </tr>\n",
       "    <tr>\n",
       "      <th>471</th>\n",
       "      <td>FR</td>\n",
       "      <td>W</td>\n",
       "      <td>71554</td>\n",
       "    </tr>\n",
       "    <tr>\n",
       "      <th>469</th>\n",
       "      <td>FR</td>\n",
       "      <td>T</td>\n",
       "      <td>41463</td>\n",
       "    </tr>\n",
       "    <tr>\n",
       "      <th>458</th>\n",
       "      <td>FR</td>\n",
       "      <td>7</td>\n",
       "      <td>5817</td>\n",
       "    </tr>\n",
       "    <tr>\n",
       "      <th>462</th>\n",
       "      <td>FR</td>\n",
       "      <td>C</td>\n",
       "      <td>2796</td>\n",
       "    </tr>\n",
       "  </tbody>\n",
       "</table>\n",
       "</div>"
      ],
      "text/plain": [
       "    Destino Producto    Total\n",
       "470      FR        U  1157568\n",
       "471      FR        W    71554\n",
       "469      FR        T    41463\n",
       "458      FR        7     5817\n",
       "462      FR        C     2796"
      ]
     },
     "execution_count": 7,
     "metadata": {},
     "output_type": "execute_result"
    }
   ],
   "source": [
    "df_shippings_FR = df_shippings[df_shippings['Destino'] == 'FR']\n",
    "\n",
    "df_shippings_FR.head()"
   ]
  },
  {
   "cell_type": "code",
   "execution_count": 8,
   "metadata": {
    "scrolled": true
   },
   "outputs": [
    {
     "data": {
      "text/html": [
       "<div>\n",
       "<style scoped>\n",
       "    .dataframe tbody tr th:only-of-type {\n",
       "        vertical-align: middle;\n",
       "    }\n",
       "\n",
       "    .dataframe tbody tr th {\n",
       "        vertical-align: top;\n",
       "    }\n",
       "\n",
       "    .dataframe thead th {\n",
       "        text-align: right;\n",
       "    }\n",
       "</style>\n",
       "<table border=\"1\" class=\"dataframe\">\n",
       "  <thead>\n",
       "    <tr style=\"text-align: right;\">\n",
       "      <th></th>\n",
       "      <th>Destino</th>\n",
       "      <th>Producto</th>\n",
       "      <th>Total</th>\n",
       "      <th>Porcentaje_del_total</th>\n",
       "    </tr>\n",
       "  </thead>\n",
       "  <tbody>\n",
       "    <tr>\n",
       "      <th>470</th>\n",
       "      <td>FR</td>\n",
       "      <td>U</td>\n",
       "      <td>1157568</td>\n",
       "      <td>90.13</td>\n",
       "    </tr>\n",
       "    <tr>\n",
       "      <th>471</th>\n",
       "      <td>FR</td>\n",
       "      <td>W</td>\n",
       "      <td>71554</td>\n",
       "      <td>5.57</td>\n",
       "    </tr>\n",
       "    <tr>\n",
       "      <th>469</th>\n",
       "      <td>FR</td>\n",
       "      <td>T</td>\n",
       "      <td>41463</td>\n",
       "      <td>3.23</td>\n",
       "    </tr>\n",
       "    <tr>\n",
       "      <th>458</th>\n",
       "      <td>FR</td>\n",
       "      <td>7</td>\n",
       "      <td>5817</td>\n",
       "      <td>0.45</td>\n",
       "    </tr>\n",
       "    <tr>\n",
       "      <th>462</th>\n",
       "      <td>FR</td>\n",
       "      <td>C</td>\n",
       "      <td>2796</td>\n",
       "      <td>0.22</td>\n",
       "    </tr>\n",
       "  </tbody>\n",
       "</table>\n",
       "</div>"
      ],
      "text/plain": [
       "    Destino Producto    Total  Porcentaje_del_total\n",
       "470      FR        U  1157568                 90.13\n",
       "471      FR        W    71554                  5.57\n",
       "469      FR        T    41463                  3.23\n",
       "458      FR        7     5817                  0.45\n",
       "462      FR        C     2796                  0.22"
      ]
     },
     "execution_count": 8,
     "metadata": {},
     "output_type": "execute_result"
    }
   ],
   "source": [
    "df_shippings_FR['Porcentaje_del_total'] = ((df_shippings_FR['Total'] / df_shippings_FR['Total'].sum()) * 100).round(2)\n",
    "\n",
    "df_shippings_FR.head()"
   ]
  },
  {
   "cell_type": "markdown",
   "metadata": {},
   "source": [
    "El producto U para Francia representa un 90.13% de los envíos, lo cual refuerza la decisión de considerarlo el producto estrella teniendo en cuenta la segmentación por países.\n",
    "\n",
    "Vamos a crear un DataFrame únicamente para los campos 'Fecha_envio' y 'Total', para el 'Producto' U en el 'Destino' FR."
   ]
  },
  {
   "cell_type": "markdown",
   "metadata": {},
   "source": [
    "## 3. <a id='creacion-del-dataframe-df_U_FR'>Creación del DataFrame df_U_FR</a>"
   ]
  },
  {
   "cell_type": "code",
   "execution_count": 9,
   "metadata": {},
   "outputs": [
    {
     "data": {
      "text/html": [
       "<div>\n",
       "<style scoped>\n",
       "    .dataframe tbody tr th:only-of-type {\n",
       "        vertical-align: middle;\n",
       "    }\n",
       "\n",
       "    .dataframe tbody tr th {\n",
       "        vertical-align: top;\n",
       "    }\n",
       "\n",
       "    .dataframe thead th {\n",
       "        text-align: right;\n",
       "    }\n",
       "</style>\n",
       "<table border=\"1\" class=\"dataframe\">\n",
       "  <thead>\n",
       "    <tr style=\"text-align: right;\">\n",
       "      <th></th>\n",
       "      <th>Fecha_envio</th>\n",
       "      <th>Product_code</th>\n",
       "      <th>Origen</th>\n",
       "      <th>Destino</th>\n",
       "      <th>Peso</th>\n",
       "      <th>Volumen</th>\n",
       "      <th>Peso_final</th>\n",
       "    </tr>\n",
       "  </thead>\n",
       "  <tbody>\n",
       "    <tr>\n",
       "      <th>0</th>\n",
       "      <td>2017-05-01</td>\n",
       "      <td>B</td>\n",
       "      <td>ES</td>\n",
       "      <td>NO</td>\n",
       "      <td>1.80</td>\n",
       "      <td>3.584</td>\n",
       "      <td>3.584</td>\n",
       "    </tr>\n",
       "    <tr>\n",
       "      <th>1</th>\n",
       "      <td>2017-05-01</td>\n",
       "      <td>B</td>\n",
       "      <td>ES</td>\n",
       "      <td>NO</td>\n",
       "      <td>0.90</td>\n",
       "      <td>2.242</td>\n",
       "      <td>2.242</td>\n",
       "    </tr>\n",
       "    <tr>\n",
       "      <th>2</th>\n",
       "      <td>2017-05-01</td>\n",
       "      <td>B</td>\n",
       "      <td>ES</td>\n",
       "      <td>NO</td>\n",
       "      <td>0.35</td>\n",
       "      <td>1.009</td>\n",
       "      <td>1.009</td>\n",
       "    </tr>\n",
       "    <tr>\n",
       "      <th>3</th>\n",
       "      <td>2017-05-01</td>\n",
       "      <td>B</td>\n",
       "      <td>ES</td>\n",
       "      <td>NO</td>\n",
       "      <td>1.15</td>\n",
       "      <td>2.130</td>\n",
       "      <td>2.130</td>\n",
       "    </tr>\n",
       "    <tr>\n",
       "      <th>4</th>\n",
       "      <td>2017-05-01</td>\n",
       "      <td>B</td>\n",
       "      <td>ES</td>\n",
       "      <td>NO</td>\n",
       "      <td>0.45</td>\n",
       "      <td>0.996</td>\n",
       "      <td>0.996</td>\n",
       "    </tr>\n",
       "  </tbody>\n",
       "</table>\n",
       "</div>"
      ],
      "text/plain": [
       "  Fecha_envio Product_code Origen Destino  Peso  Volumen  Peso_final\n",
       "0  2017-05-01            B     ES      NO  1.80    3.584       3.584\n",
       "1  2017-05-01            B     ES      NO  0.90    2.242       2.242\n",
       "2  2017-05-01            B     ES      NO  0.35    1.009       1.009\n",
       "3  2017-05-01            B     ES      NO  1.15    2.130       2.130\n",
       "4  2017-05-01            B     ES      NO  0.45    0.996       0.996"
      ]
     },
     "execution_count": 9,
     "metadata": {},
     "output_type": "execute_result"
    }
   ],
   "source": [
    "df.head()"
   ]
  },
  {
   "cell_type": "code",
   "execution_count": 10,
   "metadata": {
    "scrolled": true
   },
   "outputs": [
    {
     "data": {
      "text/html": [
       "<div>\n",
       "<style scoped>\n",
       "    .dataframe tbody tr th:only-of-type {\n",
       "        vertical-align: middle;\n",
       "    }\n",
       "\n",
       "    .dataframe tbody tr th {\n",
       "        vertical-align: top;\n",
       "    }\n",
       "\n",
       "    .dataframe thead th {\n",
       "        text-align: right;\n",
       "    }\n",
       "</style>\n",
       "<table border=\"1\" class=\"dataframe\">\n",
       "  <thead>\n",
       "    <tr style=\"text-align: right;\">\n",
       "      <th></th>\n",
       "      <th>Fecha_envio</th>\n",
       "      <th>Product_code</th>\n",
       "      <th>Origen</th>\n",
       "      <th>Destino</th>\n",
       "      <th>Peso</th>\n",
       "      <th>Volumen</th>\n",
       "      <th>Peso_final</th>\n",
       "    </tr>\n",
       "  </thead>\n",
       "  <tbody>\n",
       "    <tr>\n",
       "      <th>27</th>\n",
       "      <td>2017-05-01</td>\n",
       "      <td>U</td>\n",
       "      <td>ES</td>\n",
       "      <td>FR</td>\n",
       "      <td>0.15</td>\n",
       "      <td>0.606</td>\n",
       "      <td>0.606</td>\n",
       "    </tr>\n",
       "    <tr>\n",
       "      <th>30</th>\n",
       "      <td>2017-05-01</td>\n",
       "      <td>U</td>\n",
       "      <td>ES</td>\n",
       "      <td>FR</td>\n",
       "      <td>2.85</td>\n",
       "      <td>7.449</td>\n",
       "      <td>7.449</td>\n",
       "    </tr>\n",
       "    <tr>\n",
       "      <th>31</th>\n",
       "      <td>2017-05-01</td>\n",
       "      <td>U</td>\n",
       "      <td>ES</td>\n",
       "      <td>FR</td>\n",
       "      <td>0.65</td>\n",
       "      <td>1.949</td>\n",
       "      <td>1.949</td>\n",
       "    </tr>\n",
       "    <tr>\n",
       "      <th>48</th>\n",
       "      <td>2017-05-01</td>\n",
       "      <td>U</td>\n",
       "      <td>ES</td>\n",
       "      <td>FR</td>\n",
       "      <td>0.35</td>\n",
       "      <td>1.071</td>\n",
       "      <td>1.071</td>\n",
       "    </tr>\n",
       "    <tr>\n",
       "      <th>49</th>\n",
       "      <td>2017-05-01</td>\n",
       "      <td>U</td>\n",
       "      <td>ES</td>\n",
       "      <td>FR</td>\n",
       "      <td>1.05</td>\n",
       "      <td>3.601</td>\n",
       "      <td>3.601</td>\n",
       "    </tr>\n",
       "  </tbody>\n",
       "</table>\n",
       "</div>"
      ],
      "text/plain": [
       "   Fecha_envio Product_code Origen Destino  Peso  Volumen  Peso_final\n",
       "27  2017-05-01            U     ES      FR  0.15    0.606       0.606\n",
       "30  2017-05-01            U     ES      FR  2.85    7.449       7.449\n",
       "31  2017-05-01            U     ES      FR  0.65    1.949       1.949\n",
       "48  2017-05-01            U     ES      FR  0.35    1.071       1.071\n",
       "49  2017-05-01            U     ES      FR  1.05    3.601       3.601"
      ]
     },
     "execution_count": 10,
     "metadata": {},
     "output_type": "execute_result"
    }
   ],
   "source": [
    "df_U_FR = df[(df['Product_code'] == 'U') & (df['Destino'] == 'FR')]\n",
    "\n",
    "df_U_FR.head()"
   ]
  },
  {
   "cell_type": "code",
   "execution_count": 11,
   "metadata": {
    "scrolled": true
   },
   "outputs": [
    {
     "data": {
      "text/html": [
       "<div>\n",
       "<style scoped>\n",
       "    .dataframe tbody tr th:only-of-type {\n",
       "        vertical-align: middle;\n",
       "    }\n",
       "\n",
       "    .dataframe tbody tr th {\n",
       "        vertical-align: top;\n",
       "    }\n",
       "\n",
       "    .dataframe thead th {\n",
       "        text-align: right;\n",
       "    }\n",
       "</style>\n",
       "<table border=\"1\" class=\"dataframe\">\n",
       "  <thead>\n",
       "    <tr style=\"text-align: right;\">\n",
       "      <th></th>\n",
       "      <th>Fecha_envio</th>\n",
       "      <th>0</th>\n",
       "    </tr>\n",
       "  </thead>\n",
       "  <tbody>\n",
       "    <tr>\n",
       "      <th>0</th>\n",
       "      <td>2017-05-01</td>\n",
       "      <td>48</td>\n",
       "    </tr>\n",
       "    <tr>\n",
       "      <th>1</th>\n",
       "      <td>2017-05-02</td>\n",
       "      <td>2371</td>\n",
       "    </tr>\n",
       "    <tr>\n",
       "      <th>2</th>\n",
       "      <td>2017-05-03</td>\n",
       "      <td>2640</td>\n",
       "    </tr>\n",
       "    <tr>\n",
       "      <th>3</th>\n",
       "      <td>2017-05-04</td>\n",
       "      <td>2565</td>\n",
       "    </tr>\n",
       "    <tr>\n",
       "      <th>4</th>\n",
       "      <td>2017-05-05</td>\n",
       "      <td>1717</td>\n",
       "    </tr>\n",
       "  </tbody>\n",
       "</table>\n",
       "</div>"
      ],
      "text/plain": [
       "  Fecha_envio     0\n",
       "0  2017-05-01    48\n",
       "1  2017-05-02  2371\n",
       "2  2017-05-03  2640\n",
       "3  2017-05-04  2565\n",
       "4  2017-05-05  1717"
      ]
     },
     "execution_count": 11,
     "metadata": {},
     "output_type": "execute_result"
    }
   ],
   "source": [
    "df_U_FR = df_U_FR.groupby(['Fecha_envio']).size().reset_index()\n",
    "\n",
    "df_U_FR.head()"
   ]
  },
  {
   "cell_type": "markdown",
   "metadata": {},
   "source": [
    "Aprovechamos para renombrar las columnas como nos exige Prophet para procesar el dataframe."
   ]
  },
  {
   "cell_type": "code",
   "execution_count": 12,
   "metadata": {
    "scrolled": true
   },
   "outputs": [
    {
     "data": {
      "text/html": [
       "<div>\n",
       "<style scoped>\n",
       "    .dataframe tbody tr th:only-of-type {\n",
       "        vertical-align: middle;\n",
       "    }\n",
       "\n",
       "    .dataframe tbody tr th {\n",
       "        vertical-align: top;\n",
       "    }\n",
       "\n",
       "    .dataframe thead th {\n",
       "        text-align: right;\n",
       "    }\n",
       "</style>\n",
       "<table border=\"1\" class=\"dataframe\">\n",
       "  <thead>\n",
       "    <tr style=\"text-align: right;\">\n",
       "      <th></th>\n",
       "      <th>ds</th>\n",
       "      <th>y</th>\n",
       "    </tr>\n",
       "  </thead>\n",
       "  <tbody>\n",
       "    <tr>\n",
       "      <th>0</th>\n",
       "      <td>2017-05-01</td>\n",
       "      <td>48</td>\n",
       "    </tr>\n",
       "    <tr>\n",
       "      <th>1</th>\n",
       "      <td>2017-05-02</td>\n",
       "      <td>2371</td>\n",
       "    </tr>\n",
       "    <tr>\n",
       "      <th>2</th>\n",
       "      <td>2017-05-03</td>\n",
       "      <td>2640</td>\n",
       "    </tr>\n",
       "    <tr>\n",
       "      <th>3</th>\n",
       "      <td>2017-05-04</td>\n",
       "      <td>2565</td>\n",
       "    </tr>\n",
       "    <tr>\n",
       "      <th>4</th>\n",
       "      <td>2017-05-05</td>\n",
       "      <td>1717</td>\n",
       "    </tr>\n",
       "  </tbody>\n",
       "</table>\n",
       "</div>"
      ],
      "text/plain": [
       "          ds     y\n",
       "0 2017-05-01    48\n",
       "1 2017-05-02  2371\n",
       "2 2017-05-03  2640\n",
       "3 2017-05-04  2565\n",
       "4 2017-05-05  1717"
      ]
     },
     "execution_count": 12,
     "metadata": {},
     "output_type": "execute_result"
    }
   ],
   "source": [
    "df_U_FR.columns = ['ds','y']\n",
    "\n",
    "df_U_FR.head()"
   ]
  },
  {
   "cell_type": "code",
   "execution_count": 13,
   "metadata": {},
   "outputs": [
    {
     "data": {
      "text/html": [
       "<div>\n",
       "<style scoped>\n",
       "    .dataframe tbody tr th:only-of-type {\n",
       "        vertical-align: middle;\n",
       "    }\n",
       "\n",
       "    .dataframe tbody tr th {\n",
       "        vertical-align: top;\n",
       "    }\n",
       "\n",
       "    .dataframe thead th {\n",
       "        text-align: right;\n",
       "    }\n",
       "</style>\n",
       "<table border=\"1\" class=\"dataframe\">\n",
       "  <thead>\n",
       "    <tr style=\"text-align: right;\">\n",
       "      <th></th>\n",
       "      <th>ds</th>\n",
       "      <th>y</th>\n",
       "    </tr>\n",
       "  </thead>\n",
       "  <tbody>\n",
       "    <tr>\n",
       "      <th>648</th>\n",
       "      <td>2019-03-27</td>\n",
       "      <td>2346</td>\n",
       "    </tr>\n",
       "    <tr>\n",
       "      <th>649</th>\n",
       "      <td>2019-03-28</td>\n",
       "      <td>2029</td>\n",
       "    </tr>\n",
       "    <tr>\n",
       "      <th>650</th>\n",
       "      <td>2019-03-29</td>\n",
       "      <td>1880</td>\n",
       "    </tr>\n",
       "    <tr>\n",
       "      <th>651</th>\n",
       "      <td>2019-03-30</td>\n",
       "      <td>14</td>\n",
       "    </tr>\n",
       "    <tr>\n",
       "      <th>652</th>\n",
       "      <td>2019-03-31</td>\n",
       "      <td>93</td>\n",
       "    </tr>\n",
       "  </tbody>\n",
       "</table>\n",
       "</div>"
      ],
      "text/plain": [
       "            ds     y\n",
       "648 2019-03-27  2346\n",
       "649 2019-03-28  2029\n",
       "650 2019-03-29  1880\n",
       "651 2019-03-30    14\n",
       "652 2019-03-31    93"
      ]
     },
     "execution_count": 13,
     "metadata": {},
     "output_type": "execute_result"
    }
   ],
   "source": [
    "df_U_FR.tail()"
   ]
  },
  {
   "cell_type": "markdown",
   "metadata": {},
   "source": [
    "## 4. <a id='creacion-del-archivo-con-formato-pickle-del-dataframe-df_U_FR'>Creación del Archivo con Formato Pickle del DataFrame df_U_FR</a>"
   ]
  },
  {
   "cell_type": "code",
   "execution_count": 14,
   "metadata": {},
   "outputs": [],
   "source": [
    "df_U_FR.to_pickle('../Data/02.-Creacion-del-DataFrame-df_U_FR.pkl')"
   ]
  },
  {
   "cell_type": "code",
   "execution_count": 15,
   "metadata": {},
   "outputs": [
    {
     "name": "stdout",
     "output_type": "stream",
     "text": [
      "-rw-r--r-- 1 dsc dsc 1M jun 14 14:01 ../Data/02.-Creacion-del-DataFrame-df_U_FR.pkl\r\n"
     ]
    }
   ],
   "source": [
    "!ls -l --block-size=M ../Data/02.-Creacion-del-DataFrame-df_U_FR.pkl"
   ]
  },
  {
   "cell_type": "markdown",
   "metadata": {},
   "source": [
    "## 5. <a id='conclusiones'>Conclusiones</a>"
   ]
  },
  {
   "cell_type": "markdown",
   "metadata": {},
   "source": [
    "* El producto estrella es U en Francia, que además representa más del 90% de los envíos en este país. Y se ha creado el dataframe que muestra su comportamiento en el rango de fechas 05/2017 hasta 03/2019, para posteriormente procesarlo con Prophet.\n",
    "\n",
    "* El dataframe df_U_FR ha sido guardado en el archivo '02.-Creacion-del-DataFrame-df_U_FR.pkl'."
   ]
  }
 ],
 "metadata": {
  "kernelspec": {
   "display_name": "Python 3",
   "language": "python",
   "name": "python3"
  },
  "language_info": {
   "codemirror_mode": {
    "name": "ipython",
    "version": 3
   },
   "file_extension": ".py",
   "mimetype": "text/x-python",
   "name": "python",
   "nbconvert_exporter": "python",
   "pygments_lexer": "ipython3",
   "version": "3.6.8"
  }
 },
 "nbformat": 4,
 "nbformat_minor": 2
}
