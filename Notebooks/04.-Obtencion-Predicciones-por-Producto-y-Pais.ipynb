{
 "cells": [
  {
   "cell_type": "markdown",
   "metadata": {},
   "source": [
    "# Obtención Predicciones por Producto y País\n",
    "\n",
    "1. [Carga del DataFrame](#carga-del-dataframe)\n",
    "<br></br>\n",
    "2. [Función que Extrae Datos por País y Producto](#funcion-que-extrae-datos-por-pais-y-producto)\n",
    "<br></br>\n",
    "3. [Generación de la Predicción](#generacion-de-la-prediccion)\n",
    "<br></br>\n",
    "4. [Conclusiones](#conclusiones)"
   ]
  },
  {
   "cell_type": "code",
   "execution_count": 1,
   "metadata": {},
   "outputs": [
    {
     "name": "stdout",
     "output_type": "stream",
     "text": [
      "2019-05-29T13:30:58+02:00\n",
      "\n",
      "CPython 3.6.8\n",
      "IPython 6.2.1\n",
      "\n",
      "compiler   : GCC 7.3.0\n",
      "system     : Linux\n",
      "release    : 4.13.0-46-generic\n",
      "machine    : x86_64\n",
      "processor  : x86_64\n",
      "CPU cores  : 2\n",
      "interpreter: 64bit\n"
     ]
    }
   ],
   "source": [
    "%load_ext watermark\n",
    "%watermark"
   ]
  },
  {
   "cell_type": "markdown",
   "metadata": {},
   "source": [
    "## 1. <a id='carga-del-dataframe'>Carga del DataFrame</a>"
   ]
  },
  {
   "cell_type": "code",
   "execution_count": 1,
   "metadata": {},
   "outputs": [
    {
     "name": "stderr",
     "output_type": "stream",
     "text": [
      "ERROR:fbprophet:Importing plotly failed. Interactive plots will not work.\n"
     ]
    }
   ],
   "source": [
    "import math\n",
    "import numpy as np\n",
    "import pandas as pd\n",
    "from datetime import datetime,timedelta\n",
    "import calendar\n",
    "import matplotlib.pyplot as plt\n",
    "from fbprophet import Prophet\n",
    "import warnings\n",
    "\n",
    "%matplotlib inline\n",
    "plt.rcParams['figure.figsize'] = (18,10)\n",
    "warnings.filterwarnings('ignore')"
   ]
  },
  {
   "cell_type": "code",
   "execution_count": 3,
   "metadata": {
    "scrolled": true
   },
   "outputs": [
    {
     "data": {
      "text/html": [
       "<div>\n",
       "<style scoped>\n",
       "    .dataframe tbody tr th:only-of-type {\n",
       "        vertical-align: middle;\n",
       "    }\n",
       "\n",
       "    .dataframe tbody tr th {\n",
       "        vertical-align: top;\n",
       "    }\n",
       "\n",
       "    .dataframe thead th {\n",
       "        text-align: right;\n",
       "    }\n",
       "</style>\n",
       "<table border=\"1\" class=\"dataframe\">\n",
       "  <thead>\n",
       "    <tr style=\"text-align: right;\">\n",
       "      <th></th>\n",
       "      <th>Fecha_envio</th>\n",
       "      <th>Product_code</th>\n",
       "      <th>Origen</th>\n",
       "      <th>Destino</th>\n",
       "      <th>Peso</th>\n",
       "      <th>Volumen</th>\n",
       "      <th>Peso_final</th>\n",
       "    </tr>\n",
       "  </thead>\n",
       "  <tbody>\n",
       "    <tr>\n",
       "      <th>0</th>\n",
       "      <td>2017-05-01</td>\n",
       "      <td>B</td>\n",
       "      <td>ES</td>\n",
       "      <td>NO</td>\n",
       "      <td>1.80</td>\n",
       "      <td>3.584</td>\n",
       "      <td>3.584</td>\n",
       "    </tr>\n",
       "    <tr>\n",
       "      <th>1</th>\n",
       "      <td>2017-05-01</td>\n",
       "      <td>B</td>\n",
       "      <td>ES</td>\n",
       "      <td>NO</td>\n",
       "      <td>0.90</td>\n",
       "      <td>2.242</td>\n",
       "      <td>2.242</td>\n",
       "    </tr>\n",
       "    <tr>\n",
       "      <th>2</th>\n",
       "      <td>2017-05-01</td>\n",
       "      <td>B</td>\n",
       "      <td>ES</td>\n",
       "      <td>NO</td>\n",
       "      <td>0.35</td>\n",
       "      <td>1.009</td>\n",
       "      <td>1.009</td>\n",
       "    </tr>\n",
       "    <tr>\n",
       "      <th>3</th>\n",
       "      <td>2017-05-01</td>\n",
       "      <td>B</td>\n",
       "      <td>ES</td>\n",
       "      <td>NO</td>\n",
       "      <td>1.15</td>\n",
       "      <td>2.130</td>\n",
       "      <td>2.130</td>\n",
       "    </tr>\n",
       "    <tr>\n",
       "      <th>4</th>\n",
       "      <td>2017-05-01</td>\n",
       "      <td>B</td>\n",
       "      <td>ES</td>\n",
       "      <td>NO</td>\n",
       "      <td>0.45</td>\n",
       "      <td>0.996</td>\n",
       "      <td>0.996</td>\n",
       "    </tr>\n",
       "  </tbody>\n",
       "</table>\n",
       "</div>"
      ],
      "text/plain": [
       "  Fecha_envio Product_code Origen Destino  Peso  Volumen  Peso_final\n",
       "0  2017-05-01            B     ES      NO  1.80    3.584       3.584\n",
       "1  2017-05-01            B     ES      NO  0.90    2.242       2.242\n",
       "2  2017-05-01            B     ES      NO  0.35    1.009       1.009\n",
       "3  2017-05-01            B     ES      NO  1.15    2.130       2.130\n",
       "4  2017-05-01            B     ES      NO  0.45    0.996       0.996"
      ]
     },
     "execution_count": 3,
     "metadata": {},
     "output_type": "execute_result"
    }
   ],
   "source": [
    "df = pd.read_pickle('../Data/01.-Exploracion-de-los-Datos-y-Creacion-DataFrame.pkl')\n",
    "\n",
    "df.head()"
   ]
  },
  {
   "cell_type": "markdown",
   "metadata": {},
   "source": [
    "## 2. <a id='funcion-que-extrae-informacion-por-pais-y-producto'>Función que Extrae Datos por País y Producto</a>"
   ]
  },
  {
   "cell_type": "code",
   "execution_count": 4,
   "metadata": {},
   "outputs": [],
   "source": [
    "def dataframe_creation(product,country):\n",
    "    df_temp = df[(df['Product_code'] == product) & (df['Destino'] == country)]\n",
    "    df_temp = df_temp.groupby(['Fecha_envio']).size().reset_index()\n",
    "    return df_temp"
   ]
  },
  {
   "cell_type": "code",
   "execution_count": 5,
   "metadata": {},
   "outputs": [
    {
     "data": {
      "text/html": [
       "<div>\n",
       "<style scoped>\n",
       "    .dataframe tbody tr th:only-of-type {\n",
       "        vertical-align: middle;\n",
       "    }\n",
       "\n",
       "    .dataframe tbody tr th {\n",
       "        vertical-align: top;\n",
       "    }\n",
       "\n",
       "    .dataframe thead th {\n",
       "        text-align: right;\n",
       "    }\n",
       "</style>\n",
       "<table border=\"1\" class=\"dataframe\">\n",
       "  <thead>\n",
       "    <tr style=\"text-align: right;\">\n",
       "      <th></th>\n",
       "      <th>Fecha_envio</th>\n",
       "      <th>0</th>\n",
       "    </tr>\n",
       "  </thead>\n",
       "  <tbody>\n",
       "    <tr>\n",
       "      <th>0</th>\n",
       "      <td>2017-05-02</td>\n",
       "      <td>1993</td>\n",
       "    </tr>\n",
       "    <tr>\n",
       "      <th>1</th>\n",
       "      <td>2017-05-03</td>\n",
       "      <td>3193</td>\n",
       "    </tr>\n",
       "    <tr>\n",
       "      <th>2</th>\n",
       "      <td>2017-05-04</td>\n",
       "      <td>2759</td>\n",
       "    </tr>\n",
       "    <tr>\n",
       "      <th>3</th>\n",
       "      <td>2017-05-05</td>\n",
       "      <td>2503</td>\n",
       "    </tr>\n",
       "    <tr>\n",
       "      <th>4</th>\n",
       "      <td>2017-05-06</td>\n",
       "      <td>56</td>\n",
       "    </tr>\n",
       "  </tbody>\n",
       "</table>\n",
       "</div>"
      ],
      "text/plain": [
       "  Fecha_envio     0\n",
       "0  2017-05-02  1993\n",
       "1  2017-05-03  3193\n",
       "2  2017-05-04  2759\n",
       "3  2017-05-05  2503\n",
       "4  2017-05-06    56"
      ]
     },
     "execution_count": 5,
     "metadata": {},
     "output_type": "execute_result"
    }
   ],
   "source": [
    "df_N_ES = dataframe_creation('N','ES')\n",
    "\n",
    "df_N_ES.head()"
   ]
  },
  {
   "cell_type": "markdown",
   "metadata": {},
   "source": [
    "## 3. <a id='generacion-de-la-prediccion'>Generación de la Predicción</a>"
   ]
  },
  {
   "cell_type": "markdown",
   "metadata": {},
   "source": [
    "Utilizamos la función creada en el Notebook \"03.-Implementacion-Prophet-a-df_U_FR.ipynb\":"
   ]
  },
  {
   "cell_type": "code",
   "execution_count": 6,
   "metadata": {},
   "outputs": [],
   "source": [
    "def new_y_for_date(date,df_temp):\n",
    "    df_monthdays_for_date = df_temp.loc[(df_temp['ds'].dt.year == date.year) &\n",
    "                                        (df_temp['ds'].dt.month == date.month) &\n",
    "                                        (df_temp['ds'].dt.weekday == date.weekday())]\n",
    "    new_y = df_monthdays_for_date['y'].mean()\n",
    "    if math.isnan(new_y) == False:\n",
    "        return np.int64(round(new_y))\n",
    "    else:\n",
    "        return np.int64(round(df_temp.loc[df_temp['ds'].dt.weekday == date.weekday()]['y'].mean()))"
   ]
  },
  {
   "cell_type": "markdown",
   "metadata": {},
   "source": [
    "Generamos una función a partir de snippets de código del mismo Notebook, que nos genera un dataframe completo y preparado para ser procesado por Prophet:"
   ]
  },
  {
   "cell_type": "code",
   "execution_count": 7,
   "metadata": {},
   "outputs": [],
   "source": [
    "def dataframe_creation(product,country):\n",
    "    df_temp = df[(df['Product_code'] == product) & (df['Destino'] == country)]\n",
    "    df_temp = df_temp.groupby(['Fecha_envio']).size().reset_index()\n",
    "    df_temp.columns = ['ds','y']\n",
    "    missing_dates = pd.date_range(start = '2017-05-01',end = '2019-04-01').difference(df_temp['ds'])\n",
    "    df_missing_dates = pd.DataFrame()\n",
    "    df_missing_dates['ds'] = missing_dates\n",
    "    df_missing_dates['y'] = [new_y_for_date(date,df_temp) for date in df_missing_dates['ds']]\n",
    "    df_temp = df_temp.append(df_missing_dates)\n",
    "    df_temp['ds'] = pd.to_datetime(df_temp['ds'])\n",
    "    df_temp = df_temp.sort_values(by = 'ds')\n",
    "    df_temp = df_temp.reset_index(drop = True)\n",
    "    return df_temp"
   ]
  },
  {
   "cell_type": "markdown",
   "metadata": {},
   "source": [
    "Creamos una última función que genera la predicción a partir únicamente del 'Product_code', 'Destino' y el country_name_code, el ajusta a Prophet para que tenga en cuenta los días de vacaciones del país con el queramos trabajar:"
   ]
  },
  {
   "cell_type": "code",
   "execution_count": 8,
   "metadata": {},
   "outputs": [],
   "source": [
    "def forecast(product,country,country_name_code):\n",
    "    f = Prophet()\n",
    "    f.add_country_holidays(country_name = country_name_code)\n",
    "    f.fit(dataframe_creation(product,country))\n",
    "    df_temp = f.make_future_dataframe(periods = 60)\n",
    "    df_temp = f.predict(df_temp)\n",
    "    return df_temp"
   ]
  },
  {
   "cell_type": "markdown",
   "metadata": {},
   "source": [
    "Comprobamos que funciona correctamente:"
   ]
  },
  {
   "cell_type": "code",
   "execution_count": 9,
   "metadata": {
    "scrolled": false
   },
   "outputs": [
    {
     "name": "stderr",
     "output_type": "stream",
     "text": [
      "INFO:fbprophet:Disabling yearly seasonality. Run prophet with yearly_seasonality=True to override this.\n",
      "INFO:fbprophet:Disabling daily seasonality. Run prophet with daily_seasonality=True to override this.\n"
     ]
    }
   ],
   "source": [
    "df_U_FR = forecast('U','FR','FRA')"
   ]
  },
  {
   "cell_type": "code",
   "execution_count": 10,
   "metadata": {},
   "outputs": [
    {
     "data": {
      "text/html": [
       "<div>\n",
       "<style scoped>\n",
       "    .dataframe tbody tr th:only-of-type {\n",
       "        vertical-align: middle;\n",
       "    }\n",
       "\n",
       "    .dataframe tbody tr th {\n",
       "        vertical-align: top;\n",
       "    }\n",
       "\n",
       "    .dataframe thead th {\n",
       "        text-align: right;\n",
       "    }\n",
       "</style>\n",
       "<table border=\"1\" class=\"dataframe\">\n",
       "  <thead>\n",
       "    <tr style=\"text-align: right;\">\n",
       "      <th></th>\n",
       "      <th>ds</th>\n",
       "      <th>trend</th>\n",
       "      <th>yhat_lower</th>\n",
       "      <th>yhat_upper</th>\n",
       "      <th>trend_lower</th>\n",
       "      <th>trend_upper</th>\n",
       "      <th>Armistice 1918</th>\n",
       "      <th>Armistice 1918_lower</th>\n",
       "      <th>Armistice 1918_upper</th>\n",
       "      <th>Armistice 1945</th>\n",
       "      <th>...</th>\n",
       "      <th>holidays</th>\n",
       "      <th>holidays_lower</th>\n",
       "      <th>holidays_upper</th>\n",
       "      <th>weekly</th>\n",
       "      <th>weekly_lower</th>\n",
       "      <th>weekly_upper</th>\n",
       "      <th>multiplicative_terms</th>\n",
       "      <th>multiplicative_terms_lower</th>\n",
       "      <th>multiplicative_terms_upper</th>\n",
       "      <th>yhat</th>\n",
       "    </tr>\n",
       "  </thead>\n",
       "  <tbody>\n",
       "    <tr>\n",
       "      <th>0</th>\n",
       "      <td>2017-05-01</td>\n",
       "      <td>1676.917583</td>\n",
       "      <td>-423.900495</td>\n",
       "      <td>984.638915</td>\n",
       "      <td>1676.917583</td>\n",
       "      <td>1676.917583</td>\n",
       "      <td>0.0</td>\n",
       "      <td>0.0</td>\n",
       "      <td>0.0</td>\n",
       "      <td>0.0</td>\n",
       "      <td>...</td>\n",
       "      <td>-2559.694664</td>\n",
       "      <td>-2559.694664</td>\n",
       "      <td>-2559.694664</td>\n",
       "      <td>1117.779763</td>\n",
       "      <td>1117.779763</td>\n",
       "      <td>1117.779763</td>\n",
       "      <td>0.0</td>\n",
       "      <td>0.0</td>\n",
       "      <td>0.0</td>\n",
       "      <td>235.002682</td>\n",
       "    </tr>\n",
       "    <tr>\n",
       "      <th>1</th>\n",
       "      <td>2017-05-02</td>\n",
       "      <td>1677.012686</td>\n",
       "      <td>1643.955099</td>\n",
       "      <td>3104.443124</td>\n",
       "      <td>1677.012686</td>\n",
       "      <td>1677.012686</td>\n",
       "      <td>0.0</td>\n",
       "      <td>0.0</td>\n",
       "      <td>0.0</td>\n",
       "      <td>0.0</td>\n",
       "      <td>...</td>\n",
       "      <td>0.000000</td>\n",
       "      <td>0.000000</td>\n",
       "      <td>0.000000</td>\n",
       "      <td>698.381247</td>\n",
       "      <td>698.381247</td>\n",
       "      <td>698.381247</td>\n",
       "      <td>0.0</td>\n",
       "      <td>0.0</td>\n",
       "      <td>0.0</td>\n",
       "      <td>2375.393933</td>\n",
       "    </tr>\n",
       "    <tr>\n",
       "      <th>2</th>\n",
       "      <td>2017-05-03</td>\n",
       "      <td>1677.107790</td>\n",
       "      <td>1607.348722</td>\n",
       "      <td>2993.301981</td>\n",
       "      <td>1677.107790</td>\n",
       "      <td>1677.107790</td>\n",
       "      <td>0.0</td>\n",
       "      <td>0.0</td>\n",
       "      <td>0.0</td>\n",
       "      <td>0.0</td>\n",
       "      <td>...</td>\n",
       "      <td>0.000000</td>\n",
       "      <td>0.000000</td>\n",
       "      <td>0.000000</td>\n",
       "      <td>665.281319</td>\n",
       "      <td>665.281319</td>\n",
       "      <td>665.281319</td>\n",
       "      <td>0.0</td>\n",
       "      <td>0.0</td>\n",
       "      <td>0.0</td>\n",
       "      <td>2342.389109</td>\n",
       "    </tr>\n",
       "    <tr>\n",
       "      <th>3</th>\n",
       "      <td>2017-05-04</td>\n",
       "      <td>1677.202894</td>\n",
       "      <td>1602.871395</td>\n",
       "      <td>3020.237233</td>\n",
       "      <td>1677.202894</td>\n",
       "      <td>1677.202894</td>\n",
       "      <td>0.0</td>\n",
       "      <td>0.0</td>\n",
       "      <td>0.0</td>\n",
       "      <td>0.0</td>\n",
       "      <td>...</td>\n",
       "      <td>0.000000</td>\n",
       "      <td>0.000000</td>\n",
       "      <td>0.000000</td>\n",
       "      <td>632.842299</td>\n",
       "      <td>632.842299</td>\n",
       "      <td>632.842299</td>\n",
       "      <td>0.0</td>\n",
       "      <td>0.0</td>\n",
       "      <td>0.0</td>\n",
       "      <td>2310.045193</td>\n",
       "    </tr>\n",
       "    <tr>\n",
       "      <th>4</th>\n",
       "      <td>2017-05-05</td>\n",
       "      <td>1677.297997</td>\n",
       "      <td>1208.394825</td>\n",
       "      <td>2576.724392</td>\n",
       "      <td>1677.297997</td>\n",
       "      <td>1677.297997</td>\n",
       "      <td>0.0</td>\n",
       "      <td>0.0</td>\n",
       "      <td>0.0</td>\n",
       "      <td>0.0</td>\n",
       "      <td>...</td>\n",
       "      <td>0.000000</td>\n",
       "      <td>0.000000</td>\n",
       "      <td>0.000000</td>\n",
       "      <td>192.839190</td>\n",
       "      <td>192.839190</td>\n",
       "      <td>192.839190</td>\n",
       "      <td>0.0</td>\n",
       "      <td>0.0</td>\n",
       "      <td>0.0</td>\n",
       "      <td>1870.137188</td>\n",
       "    </tr>\n",
       "  </tbody>\n",
       "</table>\n",
       "<p>5 rows × 52 columns</p>\n",
       "</div>"
      ],
      "text/plain": [
       "          ds        trend   yhat_lower   yhat_upper  trend_lower  trend_upper  \\\n",
       "0 2017-05-01  1676.917583  -423.900495   984.638915  1676.917583  1676.917583   \n",
       "1 2017-05-02  1677.012686  1643.955099  3104.443124  1677.012686  1677.012686   \n",
       "2 2017-05-03  1677.107790  1607.348722  2993.301981  1677.107790  1677.107790   \n",
       "3 2017-05-04  1677.202894  1602.871395  3020.237233  1677.202894  1677.202894   \n",
       "4 2017-05-05  1677.297997  1208.394825  2576.724392  1677.297997  1677.297997   \n",
       "\n",
       "   Armistice 1918  Armistice 1918_lower  Armistice 1918_upper  Armistice 1945  \\\n",
       "0             0.0                   0.0                   0.0             0.0   \n",
       "1             0.0                   0.0                   0.0             0.0   \n",
       "2             0.0                   0.0                   0.0             0.0   \n",
       "3             0.0                   0.0                   0.0             0.0   \n",
       "4             0.0                   0.0                   0.0             0.0   \n",
       "\n",
       "   ...     holidays  holidays_lower  holidays_upper       weekly  \\\n",
       "0  ... -2559.694664    -2559.694664    -2559.694664  1117.779763   \n",
       "1  ...     0.000000        0.000000        0.000000   698.381247   \n",
       "2  ...     0.000000        0.000000        0.000000   665.281319   \n",
       "3  ...     0.000000        0.000000        0.000000   632.842299   \n",
       "4  ...     0.000000        0.000000        0.000000   192.839190   \n",
       "\n",
       "   weekly_lower  weekly_upper  multiplicative_terms  \\\n",
       "0   1117.779763   1117.779763                   0.0   \n",
       "1    698.381247    698.381247                   0.0   \n",
       "2    665.281319    665.281319                   0.0   \n",
       "3    632.842299    632.842299                   0.0   \n",
       "4    192.839190    192.839190                   0.0   \n",
       "\n",
       "   multiplicative_terms_lower  multiplicative_terms_upper         yhat  \n",
       "0                         0.0                         0.0   235.002682  \n",
       "1                         0.0                         0.0  2375.393933  \n",
       "2                         0.0                         0.0  2342.389109  \n",
       "3                         0.0                         0.0  2310.045193  \n",
       "4                         0.0                         0.0  1870.137188  \n",
       "\n",
       "[5 rows x 52 columns]"
      ]
     },
     "execution_count": 10,
     "metadata": {},
     "output_type": "execute_result"
    }
   ],
   "source": [
    "df_U_FR.head()"
   ]
  },
  {
   "cell_type": "markdown",
   "metadata": {},
   "source": [
    "## 3. <a id='conclusiones'>Conclusiones</a>"
   ]
  },
  {
   "cell_type": "markdown",
   "metadata": {},
   "source": []
  }
 ],
 "metadata": {
  "kernelspec": {
   "display_name": "Python 3",
   "language": "python",
   "name": "python3"
  },
  "language_info": {
   "codemirror_mode": {
    "name": "ipython",
    "version": 3
   },
   "file_extension": ".py",
   "mimetype": "text/x-python",
   "name": "python",
   "nbconvert_exporter": "python",
   "pygments_lexer": "ipython3",
   "version": "3.6.8"
  }
 },
 "nbformat": 4,
 "nbformat_minor": 2
}
