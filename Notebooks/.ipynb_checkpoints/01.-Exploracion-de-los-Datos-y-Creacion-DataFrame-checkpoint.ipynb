{
 "cells": [
  {
   "cell_type": "markdown",
   "metadata": {},
   "source": [
    "# Exploración de los Datos y Creación DataFrame\n",
    "\n",
    "1. [Exploración de los Datos Disponibles](#exploracion-de-los-datos-disponibles)\n",
    "<br></br>\n",
    "1.1 [Exploración de la Estructura de los Archivos](#exploracion-de-la-extructura-de-los-archivos)\n",
    "<br></br>\n",
    "2. [Creación del DataFrame Final](#creacion-dataframe-final)\n",
    "<br></br>\n",
    "2.1 [Eliminación de Registros con Fecha Superior al '2019-04-01'](#eliminacion-de-registros-con-fecha-superior)\n",
    "<br></br>\n",
    "2.2 [Creación del Campo 'peso_final'](#creacion-del-campo-peso_final)\n",
    "<br></br>\n",
    "2.3 [Cambio del Nombre de las Variables](#cambio-del-nombre-de-las-variables)\n",
    "<br></br>\n",
    "3. [Creación de Archivo con Formato pickle del DataFrame Final](#creacion-del-archivo-con-formato-pickle-del-dataframe-final)\n",
    "<br></br>\n",
    "4. [Conclusiones](#conclusiones)"
   ]
  },
  {
   "cell_type": "code",
   "execution_count": 1,
   "metadata": {
    "scrolled": true
   },
   "outputs": [
    {
     "name": "stdout",
     "output_type": "stream",
     "text": [
      "2019-05-27T12:50:43+02:00\n",
      "\n",
      "CPython 3.6.8\n",
      "IPython 6.2.1\n",
      "\n",
      "compiler   : GCC 7.3.0\n",
      "system     : Linux\n",
      "release    : 4.13.0-46-generic\n",
      "machine    : x86_64\n",
      "processor  : x86_64\n",
      "CPU cores  : 2\n",
      "interpreter: 64bit\n"
     ]
    }
   ],
   "source": [
    "%load_ext watermark\n",
    "%watermark"
   ]
  },
  {
   "cell_type": "markdown",
   "metadata": {},
   "source": [
    "## 1. <a id='exploracion-de-los-datos-disponibles'>Exploración de los Datos Disponibles</a>"
   ]
  },
  {
   "cell_type": "code",
   "execution_count": 2,
   "metadata": {
    "scrolled": false
   },
   "outputs": [
    {
     "name": "stdout",
     "output_type": "stream",
     "text": [
      "2017.05.csv  2017.09.csv  2018.01.csv  2018.05.csv  2018.09.csv  2019.01.csv\r\n",
      "2017.06.csv  2017.10.csv  2018.02.csv  2018.06.csv  2018.10.csv  2019.02.csv\r\n",
      "2017.07.csv  2017.11.csv  2018.03.csv  2018.07.csv  2018.11.csv  2019.03.csv\r\n",
      "2017.08.csv  2017.12.csv  2018.04.csv  2018.08.csv  2018.12.csv\r\n"
     ]
    }
   ],
   "source": [
    "!ls ../Data/Original-Data/"
   ]
  },
  {
   "cell_type": "code",
   "execution_count": 3,
   "metadata": {},
   "outputs": [
    {
     "name": "stdout",
     "output_type": "stream",
     "text": [
      "total 349M\r\n",
      "16M 2017.05.csv  16M 2017.11.csv  17M 2018.05.csv  18M 2018.11.csv\r\n",
      "17M 2017.06.csv  16M 2017.12.csv  17M 2018.06.csv  17M 2018.12.csv\r\n",
      "16M 2017.07.csv  16M 2018.01.csv  15M 2018.07.csv  18M 2019.01.csv\r\n",
      "13M 2017.08.csv  14M 2018.02.csv  15M 2018.08.csv  15M 2019.02.csv\r\n",
      "14M 2017.09.csv  14M 2018.03.csv  14M 2018.09.csv  16M 2019.03.csv\r\n",
      "14M 2017.10.csv  15M 2018.04.csv  17M 2018.10.csv\r\n"
     ]
    }
   ],
   "source": [
    "!ls -sh ../Data/Original-Data/"
   ]
  },
  {
   "cell_type": "markdown",
   "metadata": {},
   "source": [
    "Se trata de:\n",
    "* 23 archivos en los que cada uno representa un mes de datos\n",
    "* Desde 05/2017 hasta 03/2019\n",
    "* 349MB en total"
   ]
  },
  {
   "cell_type": "markdown",
   "metadata": {},
   "source": [
    "### 1.1 <a id='exploracion-de-la-extructura-de-los-archivos'>Exploración de la Estructura de los Archivos</a>"
   ]
  },
  {
   "cell_type": "code",
   "execution_count": 4,
   "metadata": {},
   "outputs": [],
   "source": [
    "import os                           #Funcionalides para interactuar con el sistema de archivos\n",
    "import pandas as pd                 #Carga de Pandas\n",
    "import datetime                     #Módulo para el tratamiento de fechas\n",
    "import numpy as np                  #Carga de Numpy"
   ]
  },
  {
   "cell_type": "code",
   "execution_count": 5,
   "metadata": {
    "scrolled": true
   },
   "outputs": [
    {
     "data": {
      "text/plain": [
       "['2017.05.csv',\n",
       " '2017.06.csv',\n",
       " '2017.07.csv',\n",
       " '2017.08.csv',\n",
       " '2017.09.csv',\n",
       " '2017.10.csv',\n",
       " '2017.11.csv',\n",
       " '2017.12.csv',\n",
       " '2018.01.csv',\n",
       " '2018.02.csv',\n",
       " '2018.03.csv',\n",
       " '2018.04.csv',\n",
       " '2018.05.csv',\n",
       " '2018.06.csv',\n",
       " '2018.07.csv',\n",
       " '2018.08.csv',\n",
       " '2018.09.csv',\n",
       " '2018.10.csv',\n",
       " '2018.11.csv',\n",
       " '2018.12.csv',\n",
       " '2019.01.csv',\n",
       " '2019.02.csv',\n",
       " '2019.03.csv']"
      ]
     },
     "execution_count": 5,
     "metadata": {},
     "output_type": "execute_result"
    }
   ],
   "source": [
    "list_of_files = os.listdir('../Data/Original-Data/')\n",
    "\n",
    "list_of_files.sort()\n",
    "list_of_files"
   ]
  },
  {
   "cell_type": "markdown",
   "metadata": {},
   "source": [
    "Veamos lo que contiene el archivo más antiguo:"
   ]
  },
  {
   "cell_type": "code",
   "execution_count": 6,
   "metadata": {
    "scrolled": false
   },
   "outputs": [
    {
     "name": "stdout",
     "output_type": "stream",
     "text": [
      "Startclock Day;Product Code;Origin Country;Destination Country;Weight;Volumetric Weight\r",
      "\r\n",
      "2017-05-02;U;ES;DE;0,14;\r",
      "\r\n",
      "2017-05-02;P;ES;CH;2,35;2,54\r",
      "\r\n",
      "2017-05-02;T;ES;US;0,08;\r",
      "\r\n",
      "2017-05-02;P;ES;US;0,46;0,44\r",
      "\r\n",
      "2017-05-02;U;ES;GB;0,14;\r",
      "\r\n",
      "2017-05-02;U;ES;GB;0,12;\r",
      "\r\n",
      "2017-05-02;U;ES;GB;0,14;\r",
      "\r\n",
      "2017-05-02;U;ES;FR;0,14;\r",
      "\r\n",
      "2017-05-02;U;ES;FR;0,14;\r",
      "\r\n"
     ]
    }
   ],
   "source": [
    "!head ../Data/Original-Data/2017.05.csv"
   ]
  },
  {
   "cell_type": "markdown",
   "metadata": {},
   "source": [
    "¿Tienen todos los archivos una estructura similar?"
   ]
  },
  {
   "cell_type": "code",
   "execution_count": 7,
   "metadata": {},
   "outputs": [
    {
     "name": "stdout",
     "output_type": "stream",
     "text": [
      "El archivo 2017.05.csv tiene la forma (576840, 6) y contiene 0.08% NaN's\n",
      "El archivo 2017.06.csv tiene la forma (606320, 6) y contiene 0.08% NaN's\n",
      "El archivo 2017.07.csv tiene la forma (574875, 6) y contiene 0.07% NaN's\n",
      "El archivo 2017.08.csv tiene la forma (480047, 6) y contiene 0.07% NaN's\n",
      "El archivo 2017.09.csv tiene la forma (486775, 6) y contiene 0.07% NaN's\n",
      "El archivo 2017.10.csv tiene la forma (504068, 6) y contiene 0.06% NaN's\n",
      "El archivo 2017.11.csv tiene la forma (574014, 6) y contiene 0.06% NaN's\n",
      "El archivo 2017.12.csv tiene la forma (566078, 6) y contiene 0.06% NaN's\n",
      "El archivo 2018.01.csv tiene la forma (569825, 6) y contiene 0.05% NaN's\n",
      "El archivo 2018.02.csv tiene la forma (471434, 6) y contiene 0.05% NaN's\n",
      "El archivo 2018.03.csv tiene la forma (494267, 6) y contiene 0.05% NaN's\n",
      "El archivo 2018.04.csv tiene la forma (522756, 6) y contiene 0.05% NaN's\n",
      "El archivo 2018.05.csv tiene la forma (593495, 6) y contiene 0.06% NaN's\n",
      "El archivo 2018.06.csv tiene la forma (592324, 6) y contiene 0.06% NaN's\n",
      "El archivo 2018.07.csv tiene la forma (520008, 6) y contiene 0.04% NaN's\n",
      "El archivo 2018.08.csv tiene la forma (520656, 6) y contiene 0.06% NaN's\n",
      "El archivo 2018.09.csv tiene la forma (483175, 6) y contiene 0.05% NaN's\n",
      "El archivo 2018.10.csv tiene la forma (592404, 6) y contiene 0.05% NaN's\n",
      "El archivo 2018.11.csv tiene la forma (631505, 6) y contiene 0.05% NaN's\n",
      "El archivo 2018.12.csv tiene la forma (598285, 6) y contiene 0.06% NaN's\n",
      "El archivo 2019.01.csv tiene la forma (625837, 6) y contiene 0.04% NaN's\n",
      "El archivo 2019.02.csv tiene la forma (539191, 6) y contiene 0.07% NaN's\n",
      "El archivo 2019.03.csv tiene la forma (555371, 6) y contiene 0.05% NaN's\n"
     ]
    }
   ],
   "source": [
    "directory = '../Data/Original-Data/'\n",
    "\n",
    "for file in list_of_files:\n",
    "    df_temp = pd.read_csv(directory + file,sep = \";\",decimal = ',',encoding = 'utf-8')\n",
    "    print('El archivo {} tiene la forma {} y contiene {}% NaN\\'s'.format(\n",
    "          file,\n",
    "          df_temp.shape,\n",
    "          round(df_temp.isnull().sum().sum() / (df_temp.shape[0] * df_temp.shape[1]),2)\n",
    "          ))"
   ]
  },
  {
   "cell_type": "markdown",
   "metadata": {},
   "source": [
    "Trabajamos con el archivo 2017.05.csv. Creamos el primer dataframe y obtenemos información de las variables."
   ]
  },
  {
   "cell_type": "code",
   "execution_count": 8,
   "metadata": {},
   "outputs": [
    {
     "data": {
      "text/html": [
       "<div>\n",
       "<style scoped>\n",
       "    .dataframe tbody tr th:only-of-type {\n",
       "        vertical-align: middle;\n",
       "    }\n",
       "\n",
       "    .dataframe tbody tr th {\n",
       "        vertical-align: top;\n",
       "    }\n",
       "\n",
       "    .dataframe thead th {\n",
       "        text-align: right;\n",
       "    }\n",
       "</style>\n",
       "<table border=\"1\" class=\"dataframe\">\n",
       "  <thead>\n",
       "    <tr style=\"text-align: right;\">\n",
       "      <th></th>\n",
       "      <th>Startclock Day</th>\n",
       "      <th>Product Code</th>\n",
       "      <th>Origin Country</th>\n",
       "      <th>Destination Country</th>\n",
       "      <th>Weight</th>\n",
       "      <th>Volumetric Weight</th>\n",
       "    </tr>\n",
       "  </thead>\n",
       "  <tbody>\n",
       "    <tr>\n",
       "      <th>0</th>\n",
       "      <td>2017-05-02</td>\n",
       "      <td>U</td>\n",
       "      <td>ES</td>\n",
       "      <td>DE</td>\n",
       "      <td>0.14</td>\n",
       "      <td>NaN</td>\n",
       "    </tr>\n",
       "    <tr>\n",
       "      <th>1</th>\n",
       "      <td>2017-05-02</td>\n",
       "      <td>P</td>\n",
       "      <td>ES</td>\n",
       "      <td>CH</td>\n",
       "      <td>2.35</td>\n",
       "      <td>2.54</td>\n",
       "    </tr>\n",
       "    <tr>\n",
       "      <th>2</th>\n",
       "      <td>2017-05-02</td>\n",
       "      <td>T</td>\n",
       "      <td>ES</td>\n",
       "      <td>US</td>\n",
       "      <td>0.08</td>\n",
       "      <td>NaN</td>\n",
       "    </tr>\n",
       "    <tr>\n",
       "      <th>3</th>\n",
       "      <td>2017-05-02</td>\n",
       "      <td>P</td>\n",
       "      <td>ES</td>\n",
       "      <td>US</td>\n",
       "      <td>0.46</td>\n",
       "      <td>0.44</td>\n",
       "    </tr>\n",
       "    <tr>\n",
       "      <th>4</th>\n",
       "      <td>2017-05-02</td>\n",
       "      <td>U</td>\n",
       "      <td>ES</td>\n",
       "      <td>GB</td>\n",
       "      <td>0.14</td>\n",
       "      <td>NaN</td>\n",
       "    </tr>\n",
       "  </tbody>\n",
       "</table>\n",
       "</div>"
      ],
      "text/plain": [
       "  Startclock Day Product Code Origin Country Destination Country  Weight  \\\n",
       "0     2017-05-02            U             ES                  DE    0.14   \n",
       "1     2017-05-02            P             ES                  CH    2.35   \n",
       "2     2017-05-02            T             ES                  US    0.08   \n",
       "3     2017-05-02            P             ES                  US    0.46   \n",
       "4     2017-05-02            U             ES                  GB    0.14   \n",
       "\n",
       "   Volumetric Weight  \n",
       "0                NaN  \n",
       "1               2.54  \n",
       "2                NaN  \n",
       "3               0.44  \n",
       "4                NaN  "
      ]
     },
     "execution_count": 8,
     "metadata": {},
     "output_type": "execute_result"
    }
   ],
   "source": [
    "df_temp = pd.read_csv('../Data/Original-Data/2017.05.csv',sep = \";\",decimal = ',',encoding = 'utf-8')\n",
    "\n",
    "df_temp.head()"
   ]
  },
  {
   "cell_type": "code",
   "execution_count": 9,
   "metadata": {
    "scrolled": false
   },
   "outputs": [
    {
     "data": {
      "text/plain": [
       "Startclock Day          object\n",
       "Product Code            object\n",
       "Origin Country          object\n",
       "Destination Country     object\n",
       "Weight                 float64\n",
       "Volumetric Weight      float64\n",
       "dtype: object"
      ]
     },
     "execution_count": 9,
     "metadata": {},
     "output_type": "execute_result"
    }
   ],
   "source": [
    "df_temp.dtypes"
   ]
  },
  {
   "cell_type": "code",
   "execution_count": 10,
   "metadata": {},
   "outputs": [
    {
     "name": "stdout",
     "output_type": "stream",
     "text": [
      "El archivo 2017.05.csv tiene los siguientes porcentajes de NaN's por columnas:\n",
      "      Startclock Day: 0.0%\n",
      "      Product Code: 0.0%\n",
      "      Origin Country: 0.0%\n",
      "      Destination Country: 0.0%\n",
      "      Weight: 0.0%\n",
      "      Volumetric Weight: 0.46%\n",
      "\n",
      "\n"
     ]
    }
   ],
   "source": [
    "print('El archivo 2017.05.csv tiene los siguientes porcentajes de NaN\\'s por columnas:\\n\\\n",
    "      Startclock Day: {}%\\n\\\n",
    "      Product Code: {}%\\n\\\n",
    "      Origin Country: {}%\\n\\\n",
    "      Destination Country: {}%\\n\\\n",
    "      Weight: {}%\\n\\\n",
    "      Volumetric Weight: {}%\\n\\n'.format(round(df_temp['Startclock Day'].isnull().sum() / len(df_temp.index),2),\n",
    "                                         round(df_temp['Product Code'].isnull().sum() / len(df_temp.index),2),\n",
    "                                         round(df_temp['Origin Country'].isnull().sum() / len(df_temp.index),2),\n",
    "                                         round(df_temp['Destination Country'].isnull().sum() / len(df_temp.index),2),\n",
    "                                         round(df_temp['Weight'].isnull().sum() / len(df_temp.index),2),\n",
    "                                         round(df_temp['Volumetric Weight'].isnull().sum() / len(df_temp.index),2)\n",
    "                                         ))"
   ]
  },
  {
   "cell_type": "markdown",
   "metadata": {},
   "source": [
    "Porcentaje de NaN's de todos los archivos por columnas."
   ]
  },
  {
   "cell_type": "code",
   "execution_count": 11,
   "metadata": {},
   "outputs": [
    {
     "name": "stdout",
     "output_type": "stream",
     "text": [
      "El archivo 2017.05.csv tiene los siguientes porcentajes de NaN's por columnas:\n",
      "      Startclock Day: 0.0%\n",
      "      Product Code: 0.0%\n",
      "      Origin Country: 0.0%\n",
      "      Destination Country: 0.0%\n",
      "      Weight: 0.0%\n",
      "      Volumetric Weight: 0.46%\n",
      "\n",
      "\n",
      "El archivo 2017.06.csv tiene los siguientes porcentajes de NaN's por columnas:\n",
      "      Startclock Day: 0.0%\n",
      "      Product Code: 0.0%\n",
      "      Origin Country: 0.0%\n",
      "      Destination Country: 0.0%\n",
      "      Weight: 0.0%\n",
      "      Volumetric Weight: 0.46%\n",
      "\n",
      "\n",
      "El archivo 2017.07.csv tiene los siguientes porcentajes de NaN's por columnas:\n",
      "      Startclock Day: 0.0%\n",
      "      Product Code: 0.0%\n",
      "      Origin Country: 0.0%\n",
      "      Destination Country: 0.0%\n",
      "      Weight: 0.0%\n",
      "      Volumetric Weight: 0.45%\n",
      "\n",
      "\n",
      "El archivo 2017.08.csv tiene los siguientes porcentajes de NaN's por columnas:\n",
      "      Startclock Day: 0.0%\n",
      "      Product Code: 0.0%\n",
      "      Origin Country: 0.0%\n",
      "      Destination Country: 0.0%\n",
      "      Weight: 0.0%\n",
      "      Volumetric Weight: 0.44%\n",
      "\n",
      "\n",
      "El archivo 2017.09.csv tiene los siguientes porcentajes de NaN's por columnas:\n",
      "      Startclock Day: 0.0%\n",
      "      Product Code: 0.0%\n",
      "      Origin Country: 0.0%\n",
      "      Destination Country: 0.0%\n",
      "      Weight: 0.0%\n",
      "      Volumetric Weight: 0.39%\n",
      "\n",
      "\n",
      "El archivo 2017.10.csv tiene los siguientes porcentajes de NaN's por columnas:\n",
      "      Startclock Day: 0.0%\n",
      "      Product Code: 0.0%\n",
      "      Origin Country: 0.0%\n",
      "      Destination Country: 0.0%\n",
      "      Weight: 0.0%\n",
      "      Volumetric Weight: 0.37%\n",
      "\n",
      "\n",
      "El archivo 2017.11.csv tiene los siguientes porcentajes de NaN's por columnas:\n",
      "      Startclock Day: 0.0%\n",
      "      Product Code: 0.0%\n",
      "      Origin Country: 0.0%\n",
      "      Destination Country: 0.0%\n",
      "      Weight: 0.0%\n",
      "      Volumetric Weight: 0.37%\n",
      "\n",
      "\n",
      "El archivo 2017.12.csv tiene los siguientes porcentajes de NaN's por columnas:\n",
      "      Startclock Day: 0.0%\n",
      "      Product Code: 0.0%\n",
      "      Origin Country: 0.0%\n",
      "      Destination Country: 0.0%\n",
      "      Weight: 0.0%\n",
      "      Volumetric Weight: 0.36%\n",
      "\n",
      "\n",
      "El archivo 2018.01.csv tiene los siguientes porcentajes de NaN's por columnas:\n",
      "      Startclock Day: 0.0%\n",
      "      Product Code: 0.0%\n",
      "      Origin Country: 0.0%\n",
      "      Destination Country: 0.0%\n",
      "      Weight: 0.0%\n",
      "      Volumetric Weight: 0.32%\n",
      "\n",
      "\n",
      "El archivo 2018.02.csv tiene los siguientes porcentajes de NaN's por columnas:\n",
      "      Startclock Day: 0.0%\n",
      "      Product Code: 0.0%\n",
      "      Origin Country: 0.0%\n",
      "      Destination Country: 0.0%\n",
      "      Weight: 0.0%\n",
      "      Volumetric Weight: 0.31%\n",
      "\n",
      "\n",
      "El archivo 2018.03.csv tiene los siguientes porcentajes de NaN's por columnas:\n",
      "      Startclock Day: 0.0%\n",
      "      Product Code: 0.0%\n",
      "      Origin Country: 0.0%\n",
      "      Destination Country: 0.0%\n",
      "      Weight: 0.0%\n",
      "      Volumetric Weight: 0.3%\n",
      "\n",
      "\n",
      "El archivo 2018.04.csv tiene los siguientes porcentajes de NaN's por columnas:\n",
      "      Startclock Day: 0.0%\n",
      "      Product Code: 0.0%\n",
      "      Origin Country: 0.0%\n",
      "      Destination Country: 0.0%\n",
      "      Weight: 0.0%\n",
      "      Volumetric Weight: 0.32%\n",
      "\n",
      "\n",
      "El archivo 2018.05.csv tiene los siguientes porcentajes de NaN's por columnas:\n",
      "      Startclock Day: 0.0%\n",
      "      Product Code: 0.0%\n",
      "      Origin Country: 0.0%\n",
      "      Destination Country: 0.0%\n",
      "      Weight: 0.0%\n",
      "      Volumetric Weight: 0.36%\n",
      "\n",
      "\n",
      "El archivo 2018.06.csv tiene los siguientes porcentajes de NaN's por columnas:\n",
      "      Startclock Day: 0.0%\n",
      "      Product Code: 0.0%\n",
      "      Origin Country: 0.0%\n",
      "      Destination Country: 0.0%\n",
      "      Weight: 0.0%\n",
      "      Volumetric Weight: 0.36%\n",
      "\n",
      "\n",
      "El archivo 2018.07.csv tiene los siguientes porcentajes de NaN's por columnas:\n",
      "      Startclock Day: 0.0%\n",
      "      Product Code: 0.0%\n",
      "      Origin Country: 0.0%\n",
      "      Destination Country: 0.0%\n",
      "      Weight: 0.0%\n",
      "      Volumetric Weight: 0.22%\n",
      "\n",
      "\n",
      "El archivo 2018.08.csv tiene los siguientes porcentajes de NaN's por columnas:\n",
      "      Startclock Day: 0.0%\n",
      "      Product Code: 0.0%\n",
      "      Origin Country: 0.0%\n",
      "      Destination Country: 0.0%\n",
      "      Weight: 0.0%\n",
      "      Volumetric Weight: 0.34%\n",
      "\n",
      "\n",
      "El archivo 2018.09.csv tiene los siguientes porcentajes de NaN's por columnas:\n",
      "      Startclock Day: 0.0%\n",
      "      Product Code: 0.0%\n",
      "      Origin Country: 0.0%\n",
      "      Destination Country: 0.0%\n",
      "      Weight: 0.0%\n",
      "      Volumetric Weight: 0.31%\n",
      "\n",
      "\n",
      "El archivo 2018.10.csv tiene los siguientes porcentajes de NaN's por columnas:\n",
      "      Startclock Day: 0.0%\n",
      "      Product Code: 0.0%\n",
      "      Origin Country: 0.0%\n",
      "      Destination Country: 0.0%\n",
      "      Weight: 0.0%\n",
      "      Volumetric Weight: 0.29%\n",
      "\n",
      "\n",
      "El archivo 2018.11.csv tiene los siguientes porcentajes de NaN's por columnas:\n",
      "      Startclock Day: 0.04%\n",
      "      Product Code: 0.0%\n",
      "      Origin Country: 0.0%\n",
      "      Destination Country: 0.0%\n",
      "      Weight: 0.0%\n",
      "      Volumetric Weight: 0.27%\n",
      "\n",
      "\n",
      "El archivo 2018.12.csv tiene los siguientes porcentajes de NaN's por columnas:\n",
      "      Startclock Day: 0.05%\n",
      "      Product Code: 0.0%\n",
      "      Origin Country: 0.0%\n",
      "      Destination Country: 0.0%\n",
      "      Weight: 0.0%\n",
      "      Volumetric Weight: 0.28%\n",
      "\n",
      "\n",
      "El archivo 2019.01.csv tiene los siguientes porcentajes de NaN's por columnas:\n",
      "      Startclock Day: 0.0%\n",
      "      Product Code: 0.0%\n",
      "      Origin Country: 0.0%\n",
      "      Destination Country: 0.0%\n",
      "      Weight: 0.0%\n",
      "      Volumetric Weight: 0.26%\n",
      "\n",
      "\n",
      "El archivo 2019.02.csv tiene los siguientes porcentajes de NaN's por columnas:\n",
      "      Startclock Day: 0.13%\n",
      "      Product Code: 0.0%\n",
      "      Origin Country: 0.0%\n",
      "      Destination Country: 0.0%\n",
      "      Weight: 0.0%\n",
      "      Volumetric Weight: 0.27%\n",
      "\n",
      "\n",
      "El archivo 2019.03.csv tiene los siguientes porcentajes de NaN's por columnas:\n",
      "      Startclock Day: 0.0%\n",
      "      Product Code: 0.0%\n",
      "      Origin Country: 0.0%\n",
      "      Destination Country: 0.0%\n",
      "      Weight: 0.0%\n",
      "      Volumetric Weight: 0.29%\n",
      "\n",
      "\n"
     ]
    }
   ],
   "source": [
    "list_of_files = os.listdir('../Data/Original-Data/')\n",
    "list_of_files.sort()\n",
    "\n",
    "directory = '../Data/Original-Data/'\n",
    "\n",
    "for file in list_of_files:\n",
    "    df_temp = pd.read_csv(directory + file,sep = \";\",decimal = ',',encoding = 'utf-8')\n",
    "    print('El archivo {} tiene los siguientes porcentajes de NaN\\'s por columnas:\\n\\\n",
    "      Startclock Day: {}%\\n\\\n",
    "      Product Code: {}%\\n\\\n",
    "      Origin Country: {}%\\n\\\n",
    "      Destination Country: {}%\\n\\\n",
    "      Weight: {}%\\n\\\n",
    "      Volumetric Weight: {}%\\n\\n'.format(file,\n",
    "                                         round(df_temp['Startclock Day'].isnull().sum() / len(df_temp.index),2),\n",
    "                                         round(df_temp['Product Code'].isnull().sum() / len(df_temp.index),2),\n",
    "                                         round(df_temp['Origin Country'].isnull().sum() / len(df_temp.index),2),\n",
    "                                         round(df_temp['Destination Country'].isnull().sum() / len(df_temp.index),2),\n",
    "                                         round(df_temp['Weight'].isnull().sum() / len(df_temp.index),2),\n",
    "                                         round(df_temp['Volumetric Weight'].isnull().sum() / len(df_temp.index),2)\n",
    "                                         ))"
   ]
  },
  {
   "cell_type": "markdown",
   "metadata": {},
   "source": [
    "## 2. <a id='creacion-del-dataframe-final'>Creación del DataFrame Final</a>"
   ]
  },
  {
   "cell_type": "markdown",
   "metadata": {},
   "source": [
    "Agrupamiento de todos los datos en un único Dataframe. Y sustitución de NaN's:\n",
    "* Variable 'Startclock Day'. Utilizamos el método de la fecha del registro anterior y convertimos a formato de fecha.\n",
    "* Variable 'Weight'. Sustituimos por el valor mínimo a facturar (0.5) y convertimos en float.\n",
    "* Variable 'Volumetric_Weight'. Sustituimos por el valor mínimo a facturar (0.5) y convertimos en float."
   ]
  },
  {
   "cell_type": "code",
   "execution_count": 12,
   "metadata": {},
   "outputs": [
    {
     "name": "stdout",
     "output_type": "stream",
     "text": [
      "Cargando fichero:  2017.05.csv\n",
      "Cargando fichero:  2017.06.csv\n",
      "Cargando fichero:  2017.07.csv\n",
      "Cargando fichero:  2017.08.csv\n",
      "Cargando fichero:  2017.09.csv\n",
      "Cargando fichero:  2017.10.csv\n",
      "Cargando fichero:  2017.11.csv\n",
      "Cargando fichero:  2017.12.csv\n",
      "Cargando fichero:  2018.01.csv\n",
      "Cargando fichero:  2018.02.csv\n",
      "Cargando fichero:  2018.03.csv\n",
      "Cargando fichero:  2018.04.csv\n",
      "Cargando fichero:  2018.05.csv\n",
      "Cargando fichero:  2018.06.csv\n",
      "Cargando fichero:  2018.07.csv\n",
      "Cargando fichero:  2018.08.csv\n",
      "Cargando fichero:  2018.09.csv\n",
      "Cargando fichero:  2018.10.csv\n",
      "Cargando fichero:  2018.11.csv\n",
      "Cargando fichero:  2018.12.csv\n",
      "Cargando fichero:  2019.01.csv\n",
      "Cargando fichero:  2019.02.csv\n",
      "Cargando fichero:  2019.03.csv\n"
     ]
    }
   ],
   "source": [
    "df = pd.DataFrame()\n",
    "\n",
    "list_of_files = os.listdir('../Data/Original-Data/')\n",
    "list_of_files.sort()\n",
    "\n",
    "directory = '../Data/Original-Data/'\n",
    "\n",
    "for file in list_of_files:\n",
    "    print('Cargando fichero: ',file)\n",
    "    df_temp = pd.read_csv(directory + file,sep = \";\",decimal = ',',encoding = 'utf-8')\n",
    "    df_temp['Startclock Day'] = df_temp['Startclock Day'].fillna(method = 'ffill')\n",
    "    df_temp['Startclock Day'] = pd.to_datetime(df_temp['Startclock Day'])\n",
    "    df_temp['Weight'] = df_temp['Weight'].fillna('0.5')\n",
    "    df_temp['Weight'] = df_temp['Weight'].astype(float)\n",
    "    df_temp['Volumetric Weight'] = df_temp['Volumetric Weight'].fillna('0.5')\n",
    "    df_temp['Volumetric Weight'] = df_temp['Volumetric Weight'].astype(float)\n",
    "    df = pd.concat([df,df_temp])"
   ]
  },
  {
   "cell_type": "code",
   "execution_count": 13,
   "metadata": {},
   "outputs": [],
   "source": [
    "df = df.sort_values(by = 'Startclock Day')\n",
    "\n",
    "df = df.reset_index(drop = True)"
   ]
  },
  {
   "cell_type": "code",
   "execution_count": 14,
   "metadata": {
    "scrolled": true
   },
   "outputs": [
    {
     "data": {
      "text/html": [
       "<div>\n",
       "<style scoped>\n",
       "    .dataframe tbody tr th:only-of-type {\n",
       "        vertical-align: middle;\n",
       "    }\n",
       "\n",
       "    .dataframe tbody tr th {\n",
       "        vertical-align: top;\n",
       "    }\n",
       "\n",
       "    .dataframe thead th {\n",
       "        text-align: right;\n",
       "    }\n",
       "</style>\n",
       "<table border=\"1\" class=\"dataframe\">\n",
       "  <thead>\n",
       "    <tr style=\"text-align: right;\">\n",
       "      <th></th>\n",
       "      <th>Startclock Day</th>\n",
       "      <th>Product Code</th>\n",
       "      <th>Origin Country</th>\n",
       "      <th>Destination Country</th>\n",
       "      <th>Weight</th>\n",
       "      <th>Volumetric Weight</th>\n",
       "    </tr>\n",
       "  </thead>\n",
       "  <tbody>\n",
       "    <tr>\n",
       "      <th>0</th>\n",
       "      <td>2017-05-01</td>\n",
       "      <td>B</td>\n",
       "      <td>ES</td>\n",
       "      <td>NO</td>\n",
       "      <td>1.80</td>\n",
       "      <td>3.584</td>\n",
       "    </tr>\n",
       "    <tr>\n",
       "      <th>1</th>\n",
       "      <td>2017-05-01</td>\n",
       "      <td>B</td>\n",
       "      <td>ES</td>\n",
       "      <td>NO</td>\n",
       "      <td>0.90</td>\n",
       "      <td>2.242</td>\n",
       "    </tr>\n",
       "    <tr>\n",
       "      <th>2</th>\n",
       "      <td>2017-05-01</td>\n",
       "      <td>B</td>\n",
       "      <td>ES</td>\n",
       "      <td>NO</td>\n",
       "      <td>0.35</td>\n",
       "      <td>1.009</td>\n",
       "    </tr>\n",
       "    <tr>\n",
       "      <th>3</th>\n",
       "      <td>2017-05-01</td>\n",
       "      <td>B</td>\n",
       "      <td>ES</td>\n",
       "      <td>NO</td>\n",
       "      <td>1.15</td>\n",
       "      <td>2.130</td>\n",
       "    </tr>\n",
       "    <tr>\n",
       "      <th>4</th>\n",
       "      <td>2017-05-01</td>\n",
       "      <td>B</td>\n",
       "      <td>ES</td>\n",
       "      <td>NO</td>\n",
       "      <td>0.45</td>\n",
       "      <td>0.996</td>\n",
       "    </tr>\n",
       "  </tbody>\n",
       "</table>\n",
       "</div>"
      ],
      "text/plain": [
       "  Startclock Day Product Code Origin Country Destination Country  Weight  \\\n",
       "0     2017-05-01            B             ES                  NO    1.80   \n",
       "1     2017-05-01            B             ES                  NO    0.90   \n",
       "2     2017-05-01            B             ES                  NO    0.35   \n",
       "3     2017-05-01            B             ES                  NO    1.15   \n",
       "4     2017-05-01            B             ES                  NO    0.45   \n",
       "\n",
       "   Volumetric Weight  \n",
       "0              3.584  \n",
       "1              2.242  \n",
       "2              1.009  \n",
       "3              2.130  \n",
       "4              0.996  "
      ]
     },
     "execution_count": 14,
     "metadata": {},
     "output_type": "execute_result"
    }
   ],
   "source": [
    "df.head()"
   ]
  },
  {
   "cell_type": "markdown",
   "metadata": {},
   "source": [
    "### 2.1 <a id='eliminacion-de-registros-con-fecha-superior'>Eliminación de Registros con Fecha Superior al '2019-04-01'</a>"
   ]
  },
  {
   "cell_type": "code",
   "execution_count": 15,
   "metadata": {
    "scrolled": true
   },
   "outputs": [
    {
     "data": {
      "text/html": [
       "<div>\n",
       "<style scoped>\n",
       "    .dataframe tbody tr th:only-of-type {\n",
       "        vertical-align: middle;\n",
       "    }\n",
       "\n",
       "    .dataframe tbody tr th {\n",
       "        vertical-align: top;\n",
       "    }\n",
       "\n",
       "    .dataframe thead th {\n",
       "        text-align: right;\n",
       "    }\n",
       "</style>\n",
       "<table border=\"1\" class=\"dataframe\">\n",
       "  <thead>\n",
       "    <tr style=\"text-align: right;\">\n",
       "      <th></th>\n",
       "      <th>Startclock Day</th>\n",
       "      <th>Product Code</th>\n",
       "      <th>Origin Country</th>\n",
       "      <th>Destination Country</th>\n",
       "      <th>Weight</th>\n",
       "      <th>Volumetric Weight</th>\n",
       "    </tr>\n",
       "  </thead>\n",
       "  <tbody>\n",
       "    <tr>\n",
       "      <th>12679545</th>\n",
       "      <td>2019-12-03</td>\n",
       "      <td>P</td>\n",
       "      <td>ES</td>\n",
       "      <td>AR</td>\n",
       "      <td>0.64</td>\n",
       "      <td>0.50</td>\n",
       "    </tr>\n",
       "    <tr>\n",
       "      <th>12679546</th>\n",
       "      <td>2019-12-03</td>\n",
       "      <td>P</td>\n",
       "      <td>ES</td>\n",
       "      <td>MX</td>\n",
       "      <td>6.60</td>\n",
       "      <td>6.42</td>\n",
       "    </tr>\n",
       "    <tr>\n",
       "      <th>12679547</th>\n",
       "      <td>2019-12-03</td>\n",
       "      <td>P</td>\n",
       "      <td>ES</td>\n",
       "      <td>CN</td>\n",
       "      <td>0.16</td>\n",
       "      <td>0.21</td>\n",
       "    </tr>\n",
       "    <tr>\n",
       "      <th>12679548</th>\n",
       "      <td>2019-12-03</td>\n",
       "      <td>P</td>\n",
       "      <td>ES</td>\n",
       "      <td>SY</td>\n",
       "      <td>0.46</td>\n",
       "      <td>0.03</td>\n",
       "    </tr>\n",
       "    <tr>\n",
       "      <th>12679549</th>\n",
       "      <td>2019-12-03</td>\n",
       "      <td>D</td>\n",
       "      <td>ES</td>\n",
       "      <td>CV</td>\n",
       "      <td>0.17</td>\n",
       "      <td>0.18</td>\n",
       "    </tr>\n",
       "  </tbody>\n",
       "</table>\n",
       "</div>"
      ],
      "text/plain": [
       "         Startclock Day Product Code Origin Country Destination Country  \\\n",
       "12679545     2019-12-03            P             ES                  AR   \n",
       "12679546     2019-12-03            P             ES                  MX   \n",
       "12679547     2019-12-03            P             ES                  CN   \n",
       "12679548     2019-12-03            P             ES                  SY   \n",
       "12679549     2019-12-03            D             ES                  CV   \n",
       "\n",
       "          Weight  Volumetric Weight  \n",
       "12679545    0.64               0.50  \n",
       "12679546    6.60               6.42  \n",
       "12679547    0.16               0.21  \n",
       "12679548    0.46               0.03  \n",
       "12679549    0.17               0.18  "
      ]
     },
     "execution_count": 15,
     "metadata": {},
     "output_type": "execute_result"
    }
   ],
   "source": [
    "df.tail()"
   ]
  },
  {
   "cell_type": "markdown",
   "metadata": {},
   "source": [
    "Eliminamos envíos con fechas superiores al '2019-04-01', puesto que son envíos recolocados y distorsionan la información que podamos obtener del dataset."
   ]
  },
  {
   "cell_type": "code",
   "execution_count": 16,
   "metadata": {},
   "outputs": [],
   "source": [
    "df = df[df['Startclock Day'] <= '2019-04-01']"
   ]
  },
  {
   "cell_type": "code",
   "execution_count": 17,
   "metadata": {
    "scrolled": false
   },
   "outputs": [
    {
     "data": {
      "text/html": [
       "<div>\n",
       "<style scoped>\n",
       "    .dataframe tbody tr th:only-of-type {\n",
       "        vertical-align: middle;\n",
       "    }\n",
       "\n",
       "    .dataframe tbody tr th {\n",
       "        vertical-align: top;\n",
       "    }\n",
       "\n",
       "    .dataframe thead th {\n",
       "        text-align: right;\n",
       "    }\n",
       "</style>\n",
       "<table border=\"1\" class=\"dataframe\">\n",
       "  <thead>\n",
       "    <tr style=\"text-align: right;\">\n",
       "      <th></th>\n",
       "      <th>Startclock Day</th>\n",
       "      <th>Product Code</th>\n",
       "      <th>Origin Country</th>\n",
       "      <th>Destination Country</th>\n",
       "      <th>Weight</th>\n",
       "      <th>Volumetric Weight</th>\n",
       "    </tr>\n",
       "  </thead>\n",
       "  <tbody>\n",
       "    <tr>\n",
       "      <th>12486110</th>\n",
       "      <td>2019-04-01</td>\n",
       "      <td>P</td>\n",
       "      <td>ES</td>\n",
       "      <td>KR</td>\n",
       "      <td>3.02</td>\n",
       "      <td>2.178</td>\n",
       "    </tr>\n",
       "    <tr>\n",
       "      <th>12486111</th>\n",
       "      <td>2019-04-01</td>\n",
       "      <td>P</td>\n",
       "      <td>ES</td>\n",
       "      <td>TR</td>\n",
       "      <td>1.38</td>\n",
       "      <td>1.594</td>\n",
       "    </tr>\n",
       "    <tr>\n",
       "      <th>12486112</th>\n",
       "      <td>2019-04-01</td>\n",
       "      <td>P</td>\n",
       "      <td>ES</td>\n",
       "      <td>AR</td>\n",
       "      <td>2.96</td>\n",
       "      <td>1.945</td>\n",
       "    </tr>\n",
       "    <tr>\n",
       "      <th>12486113</th>\n",
       "      <td>2019-04-01</td>\n",
       "      <td>P</td>\n",
       "      <td>ES</td>\n",
       "      <td>PE</td>\n",
       "      <td>5.50</td>\n",
       "      <td>2.520</td>\n",
       "    </tr>\n",
       "    <tr>\n",
       "      <th>12486114</th>\n",
       "      <td>2019-04-01</td>\n",
       "      <td>P</td>\n",
       "      <td>ES</td>\n",
       "      <td>JP</td>\n",
       "      <td>0.38</td>\n",
       "      <td>0.525</td>\n",
       "    </tr>\n",
       "  </tbody>\n",
       "</table>\n",
       "</div>"
      ],
      "text/plain": [
       "         Startclock Day Product Code Origin Country Destination Country  \\\n",
       "12486110     2019-04-01            P             ES                  KR   \n",
       "12486111     2019-04-01            P             ES                  TR   \n",
       "12486112     2019-04-01            P             ES                  AR   \n",
       "12486113     2019-04-01            P             ES                  PE   \n",
       "12486114     2019-04-01            P             ES                  JP   \n",
       "\n",
       "          Weight  Volumetric Weight  \n",
       "12486110    3.02              2.178  \n",
       "12486111    1.38              1.594  \n",
       "12486112    2.96              1.945  \n",
       "12486113    5.50              2.520  \n",
       "12486114    0.38              0.525  "
      ]
     },
     "execution_count": 17,
     "metadata": {},
     "output_type": "execute_result"
    }
   ],
   "source": [
    "df.tail()"
   ]
  },
  {
   "cell_type": "markdown",
   "metadata": {},
   "source": [
    "### 2.2 <a id='creacion-del-campo-peso_final'>Creación del Campo 'peso_final'</a>"
   ]
  },
  {
   "cell_type": "markdown",
   "metadata": {},
   "source": [
    "Para la facturación del envío se tiene en cuenta el valor de 'Weight' y de 'Volumetric Weight' y se elige el mayor de ambos. Esto es lo que va a determinar el campo 'peso_final'."
   ]
  },
  {
   "cell_type": "code",
   "execution_count": 18,
   "metadata": {},
   "outputs": [],
   "source": [
    "df['peso_final'] = np.where(df['Weight'] > df['Volumetric Weight'],df['Weight'],df['Volumetric Weight'])"
   ]
  },
  {
   "cell_type": "code",
   "execution_count": 19,
   "metadata": {},
   "outputs": [
    {
     "data": {
      "text/html": [
       "<div>\n",
       "<style scoped>\n",
       "    .dataframe tbody tr th:only-of-type {\n",
       "        vertical-align: middle;\n",
       "    }\n",
       "\n",
       "    .dataframe tbody tr th {\n",
       "        vertical-align: top;\n",
       "    }\n",
       "\n",
       "    .dataframe thead th {\n",
       "        text-align: right;\n",
       "    }\n",
       "</style>\n",
       "<table border=\"1\" class=\"dataframe\">\n",
       "  <thead>\n",
       "    <tr style=\"text-align: right;\">\n",
       "      <th></th>\n",
       "      <th>Startclock Day</th>\n",
       "      <th>Product Code</th>\n",
       "      <th>Origin Country</th>\n",
       "      <th>Destination Country</th>\n",
       "      <th>Weight</th>\n",
       "      <th>Volumetric Weight</th>\n",
       "      <th>peso_final</th>\n",
       "    </tr>\n",
       "  </thead>\n",
       "  <tbody>\n",
       "    <tr>\n",
       "      <th>0</th>\n",
       "      <td>2017-05-01</td>\n",
       "      <td>B</td>\n",
       "      <td>ES</td>\n",
       "      <td>NO</td>\n",
       "      <td>1.80</td>\n",
       "      <td>3.584</td>\n",
       "      <td>3.584</td>\n",
       "    </tr>\n",
       "    <tr>\n",
       "      <th>1</th>\n",
       "      <td>2017-05-01</td>\n",
       "      <td>B</td>\n",
       "      <td>ES</td>\n",
       "      <td>NO</td>\n",
       "      <td>0.90</td>\n",
       "      <td>2.242</td>\n",
       "      <td>2.242</td>\n",
       "    </tr>\n",
       "    <tr>\n",
       "      <th>2</th>\n",
       "      <td>2017-05-01</td>\n",
       "      <td>B</td>\n",
       "      <td>ES</td>\n",
       "      <td>NO</td>\n",
       "      <td>0.35</td>\n",
       "      <td>1.009</td>\n",
       "      <td>1.009</td>\n",
       "    </tr>\n",
       "    <tr>\n",
       "      <th>3</th>\n",
       "      <td>2017-05-01</td>\n",
       "      <td>B</td>\n",
       "      <td>ES</td>\n",
       "      <td>NO</td>\n",
       "      <td>1.15</td>\n",
       "      <td>2.130</td>\n",
       "      <td>2.130</td>\n",
       "    </tr>\n",
       "    <tr>\n",
       "      <th>4</th>\n",
       "      <td>2017-05-01</td>\n",
       "      <td>B</td>\n",
       "      <td>ES</td>\n",
       "      <td>NO</td>\n",
       "      <td>0.45</td>\n",
       "      <td>0.996</td>\n",
       "      <td>0.996</td>\n",
       "    </tr>\n",
       "  </tbody>\n",
       "</table>\n",
       "</div>"
      ],
      "text/plain": [
       "  Startclock Day Product Code Origin Country Destination Country  Weight  \\\n",
       "0     2017-05-01            B             ES                  NO    1.80   \n",
       "1     2017-05-01            B             ES                  NO    0.90   \n",
       "2     2017-05-01            B             ES                  NO    0.35   \n",
       "3     2017-05-01            B             ES                  NO    1.15   \n",
       "4     2017-05-01            B             ES                  NO    0.45   \n",
       "\n",
       "   Volumetric Weight  peso_final  \n",
       "0              3.584       3.584  \n",
       "1              2.242       2.242  \n",
       "2              1.009       1.009  \n",
       "3              2.130       2.130  \n",
       "4              0.996       0.996  "
      ]
     },
     "execution_count": 19,
     "metadata": {},
     "output_type": "execute_result"
    }
   ],
   "source": [
    "df.head()"
   ]
  },
  {
   "cell_type": "markdown",
   "metadata": {},
   "source": [
    "### 2.3 <a id='cambio-del-nombre-de-las-variables'>Cambio del Nombre de las Variables</a>"
   ]
  },
  {
   "cell_type": "code",
   "execution_count": 20,
   "metadata": {},
   "outputs": [],
   "source": [
    "df.columns = ['Fecha_envio', \n",
    "              'Product_code', \n",
    "              'Origen',\n",
    "              'Destino', \n",
    "              'Peso', \n",
    "              'Volumen',\n",
    "              'Peso_final']"
   ]
  },
  {
   "cell_type": "code",
   "execution_count": 21,
   "metadata": {},
   "outputs": [
    {
     "data": {
      "text/html": [
       "<div>\n",
       "<style scoped>\n",
       "    .dataframe tbody tr th:only-of-type {\n",
       "        vertical-align: middle;\n",
       "    }\n",
       "\n",
       "    .dataframe tbody tr th {\n",
       "        vertical-align: top;\n",
       "    }\n",
       "\n",
       "    .dataframe thead th {\n",
       "        text-align: right;\n",
       "    }\n",
       "</style>\n",
       "<table border=\"1\" class=\"dataframe\">\n",
       "  <thead>\n",
       "    <tr style=\"text-align: right;\">\n",
       "      <th></th>\n",
       "      <th>Fecha_envio</th>\n",
       "      <th>Product_code</th>\n",
       "      <th>Origen</th>\n",
       "      <th>Destino</th>\n",
       "      <th>Peso</th>\n",
       "      <th>Volumen</th>\n",
       "      <th>Peso_final</th>\n",
       "    </tr>\n",
       "  </thead>\n",
       "  <tbody>\n",
       "    <tr>\n",
       "      <th>0</th>\n",
       "      <td>2017-05-01</td>\n",
       "      <td>B</td>\n",
       "      <td>ES</td>\n",
       "      <td>NO</td>\n",
       "      <td>1.80</td>\n",
       "      <td>3.584</td>\n",
       "      <td>3.584</td>\n",
       "    </tr>\n",
       "    <tr>\n",
       "      <th>1</th>\n",
       "      <td>2017-05-01</td>\n",
       "      <td>B</td>\n",
       "      <td>ES</td>\n",
       "      <td>NO</td>\n",
       "      <td>0.90</td>\n",
       "      <td>2.242</td>\n",
       "      <td>2.242</td>\n",
       "    </tr>\n",
       "    <tr>\n",
       "      <th>2</th>\n",
       "      <td>2017-05-01</td>\n",
       "      <td>B</td>\n",
       "      <td>ES</td>\n",
       "      <td>NO</td>\n",
       "      <td>0.35</td>\n",
       "      <td>1.009</td>\n",
       "      <td>1.009</td>\n",
       "    </tr>\n",
       "    <tr>\n",
       "      <th>3</th>\n",
       "      <td>2017-05-01</td>\n",
       "      <td>B</td>\n",
       "      <td>ES</td>\n",
       "      <td>NO</td>\n",
       "      <td>1.15</td>\n",
       "      <td>2.130</td>\n",
       "      <td>2.130</td>\n",
       "    </tr>\n",
       "    <tr>\n",
       "      <th>4</th>\n",
       "      <td>2017-05-01</td>\n",
       "      <td>B</td>\n",
       "      <td>ES</td>\n",
       "      <td>NO</td>\n",
       "      <td>0.45</td>\n",
       "      <td>0.996</td>\n",
       "      <td>0.996</td>\n",
       "    </tr>\n",
       "  </tbody>\n",
       "</table>\n",
       "</div>"
      ],
      "text/plain": [
       "  Fecha_envio Product_code Origen Destino  Peso  Volumen  Peso_final\n",
       "0  2017-05-01            B     ES      NO  1.80    3.584       3.584\n",
       "1  2017-05-01            B     ES      NO  0.90    2.242       2.242\n",
       "2  2017-05-01            B     ES      NO  0.35    1.009       1.009\n",
       "3  2017-05-01            B     ES      NO  1.15    2.130       2.130\n",
       "4  2017-05-01            B     ES      NO  0.45    0.996       0.996"
      ]
     },
     "execution_count": 21,
     "metadata": {},
     "output_type": "execute_result"
    }
   ],
   "source": [
    "df.head()"
   ]
  },
  {
   "cell_type": "code",
   "execution_count": 22,
   "metadata": {},
   "outputs": [
    {
     "data": {
      "text/plain": [
       "(12486115, 7)"
      ]
     },
     "execution_count": 22,
     "metadata": {},
     "output_type": "execute_result"
    }
   ],
   "source": [
    "df.shape"
   ]
  },
  {
   "cell_type": "code",
   "execution_count": 23,
   "metadata": {},
   "outputs": [
    {
     "data": {
      "text/plain": [
       "Fecha_envio     datetime64[ns]\n",
       "Product_code            object\n",
       "Origen                  object\n",
       "Destino                 object\n",
       "Peso                   float64\n",
       "Volumen                float64\n",
       "Peso_final             float64\n",
       "dtype: object"
      ]
     },
     "execution_count": 23,
     "metadata": {},
     "output_type": "execute_result"
    }
   ],
   "source": [
    "df.dtypes"
   ]
  },
  {
   "cell_type": "markdown",
   "metadata": {},
   "source": [
    "## 3. <a id='creacion-del-archivo-con-formato-pickle-del-dataframe-final'>Creación de Archivo con Formato pickle del DataFrame Final</a>"
   ]
  },
  {
   "cell_type": "code",
   "execution_count": 24,
   "metadata": {},
   "outputs": [],
   "source": [
    "df.to_pickle('../Data/01.-Exploracion-de-los-Datos-y-Creacion-DataFrame.pkl')"
   ]
  },
  {
   "cell_type": "code",
   "execution_count": 25,
   "metadata": {
    "scrolled": true
   },
   "outputs": [
    {
     "name": "stdout",
     "output_type": "stream",
     "text": [
      "-rw-r--r-- 1 dsc dsc 586M may 27 13:00 ../Data/01.-Exploracion-de-los-Datos-y-Creacion-Dataframe.pkl\r\n"
     ]
    }
   ],
   "source": [
    "!ls -l --block-size=M ../Data/01.-Exploracion-de-los-Datos-y-Creacion-DataFrame.pkl"
   ]
  },
  {
   "cell_type": "markdown",
   "metadata": {},
   "source": [
    "## 4. <a id='conclusiones'>Conclusiones</a>"
   ]
  },
  {
   "cell_type": "markdown",
   "metadata": {},
   "source": [
    "Los archivos de los datos originales tienen las siguientes características:\n",
    "* 23 archivos en los que cada uno representa un mes de datos\n",
    "* Desde 05/2017 hasta 03/2019\n",
    "* 349MB en total\n",
    "\n",
    "Después de algunas acciones de 'Feature Engineering' el DataFrame final tiene las siguientes características:\n",
    "* 12486115 de registros y 7 variables\n",
    "* Ocupa 586MB\n",
    "* Visualmente su estructura es:"
   ]
  },
  {
   "cell_type": "code",
   "execution_count": 26,
   "metadata": {},
   "outputs": [
    {
     "data": {
      "text/html": [
       "<div>\n",
       "<style scoped>\n",
       "    .dataframe tbody tr th:only-of-type {\n",
       "        vertical-align: middle;\n",
       "    }\n",
       "\n",
       "    .dataframe tbody tr th {\n",
       "        vertical-align: top;\n",
       "    }\n",
       "\n",
       "    .dataframe thead th {\n",
       "        text-align: right;\n",
       "    }\n",
       "</style>\n",
       "<table border=\"1\" class=\"dataframe\">\n",
       "  <thead>\n",
       "    <tr style=\"text-align: right;\">\n",
       "      <th></th>\n",
       "      <th>Fecha_envio</th>\n",
       "      <th>Product_code</th>\n",
       "      <th>Origen</th>\n",
       "      <th>Destino</th>\n",
       "      <th>Peso</th>\n",
       "      <th>Volumen</th>\n",
       "      <th>Peso_final</th>\n",
       "    </tr>\n",
       "  </thead>\n",
       "  <tbody>\n",
       "    <tr>\n",
       "      <th>0</th>\n",
       "      <td>2017-05-01</td>\n",
       "      <td>B</td>\n",
       "      <td>ES</td>\n",
       "      <td>NO</td>\n",
       "      <td>1.80</td>\n",
       "      <td>3.584</td>\n",
       "      <td>3.584</td>\n",
       "    </tr>\n",
       "    <tr>\n",
       "      <th>1</th>\n",
       "      <td>2017-05-01</td>\n",
       "      <td>B</td>\n",
       "      <td>ES</td>\n",
       "      <td>NO</td>\n",
       "      <td>0.90</td>\n",
       "      <td>2.242</td>\n",
       "      <td>2.242</td>\n",
       "    </tr>\n",
       "    <tr>\n",
       "      <th>2</th>\n",
       "      <td>2017-05-01</td>\n",
       "      <td>B</td>\n",
       "      <td>ES</td>\n",
       "      <td>NO</td>\n",
       "      <td>0.35</td>\n",
       "      <td>1.009</td>\n",
       "      <td>1.009</td>\n",
       "    </tr>\n",
       "    <tr>\n",
       "      <th>3</th>\n",
       "      <td>2017-05-01</td>\n",
       "      <td>B</td>\n",
       "      <td>ES</td>\n",
       "      <td>NO</td>\n",
       "      <td>1.15</td>\n",
       "      <td>2.130</td>\n",
       "      <td>2.130</td>\n",
       "    </tr>\n",
       "    <tr>\n",
       "      <th>4</th>\n",
       "      <td>2017-05-01</td>\n",
       "      <td>B</td>\n",
       "      <td>ES</td>\n",
       "      <td>NO</td>\n",
       "      <td>0.45</td>\n",
       "      <td>0.996</td>\n",
       "      <td>0.996</td>\n",
       "    </tr>\n",
       "  </tbody>\n",
       "</table>\n",
       "</div>"
      ],
      "text/plain": [
       "  Fecha_envio Product_code Origen Destino  Peso  Volumen  Peso_final\n",
       "0  2017-05-01            B     ES      NO  1.80    3.584       3.584\n",
       "1  2017-05-01            B     ES      NO  0.90    2.242       2.242\n",
       "2  2017-05-01            B     ES      NO  0.35    1.009       1.009\n",
       "3  2017-05-01            B     ES      NO  1.15    2.130       2.130\n",
       "4  2017-05-01            B     ES      NO  0.45    0.996       0.996"
      ]
     },
     "execution_count": 26,
     "metadata": {},
     "output_type": "execute_result"
    }
   ],
   "source": [
    "df.head()"
   ]
  }
 ],
 "metadata": {
  "kernelspec": {
   "display_name": "Python 3",
   "language": "python",
   "name": "python3"
  },
  "language_info": {
   "codemirror_mode": {
    "name": "ipython",
    "version": 3
   },
   "file_extension": ".py",
   "mimetype": "text/x-python",
   "name": "python",
   "nbconvert_exporter": "python",
   "pygments_lexer": "ipython3",
   "version": "3.7.1"
  }
 },
 "nbformat": 4,
 "nbformat_minor": 2
}
